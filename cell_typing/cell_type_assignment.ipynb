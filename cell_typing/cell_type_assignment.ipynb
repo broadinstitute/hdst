{
 "cells": [
  {
   "cell_type": "code",
   "execution_count": null,
   "metadata": {},
   "outputs": [],
   "source": [
    "library(data.table)\n",
    "library(parallel)"
   ]
  },
  {
   "cell_type": "code",
   "execution_count": null,
   "metadata": {},
   "outputs": [],
   "source": [
    "setwd(\"/broad/regevtmp/jklugham/HD_ST\") # set wd to project directory containing all the sub folder"
   ]
  },
  {
   "cell_type": "markdown",
   "metadata": {},
   "source": [
    "#### Calculate cell type likelihoods for each barcode/bin"
   ]
  },
  {
   "cell_type": "code",
   "execution_count": null,
   "metadata": {},
   "outputs": [],
   "source": [
    "calc_lk=function(ref,dat,exp=NULL,n_shuff=0){\n",
    "    dat_ct=merge(dat,ref,by=\"gene\",allow.cartesian=TRUE)\n",
    "    likelihoods=dat_ct[,.(lk=sum(count*log_norm),\n",
    "                          count=sum(count),\n",
    "                          umi_distrib=paste0(\"c(\",paste(count,collapse = \",\"),\")\")\n",
    "                         ),by=c(\"x\",\"y\",\"ClusterName\",exp)]\n",
    "    \n",
    "    get_emp_pval=function(lk_orig,counts,cluster,ref_data,n_shuff){\n",
    "        ref_cl=ref_data[ClusterName==cluster]$log_norm\n",
    "        counts=eval(parse(text=counts))\n",
    "        zero_rat=sum(ref_cl==-Inf)/length(ref_cl)\n",
    "        p_no0=(1-zero_rat)^length(counts)\n",
    "        \n",
    "        set.seed(1234)\n",
    "        shuffles=lapply(rep(length(counts),n_shuff),FUN=function(x)sample(ref_cl[ref_cl!=-Inf],x,replace = FALSE))\n",
    "        lk_shuff=unlist(mclapply(X=shuffles,FUN=function(x)sum(counts*x),mc.cores=1,mc.preschedule = TRUE))\n",
    "        p=unlist(mclapply(X=lk_orig,FUN=function(x){sum(lk_shuff>=x)/n_shuff},mc.cores=1,mc.preschedule = TRUE))\n",
    "        return(p*p_no0)\n",
    "    }\n",
    "    if (n_shuff!=0){\n",
    "            likelihoods[lk!=-Inf,emp_pval:=get_emp_pval(lk,umi_distrib,ClusterName,ref,n_shuff),\n",
    "                by=c(\"umi_distrib\",\"ClusterName\")]\n",
    "            likelihoods[lk==-Inf,emp_pval:=1,]\n",
    "        }else{\n",
    "            likelihoods[,emp_pval:=NA,]\n",
    "    }\n",
    "    return(likelihoods)\n",
    "}"
   ]
  },
  {
   "cell_type": "markdown",
   "metadata": {},
   "source": [
    "#### Process the the output from calc_lk"
   ]
  },
  {
   "cell_type": "code",
   "execution_count": null,
   "metadata": {},
   "outputs": [],
   "source": [
    "process_calk_lk=function(likelihoods,Ng=Ngenes,exp=NULL){\n",
    "    find_nexthighest=function(lk){\n",
    "        lk_sort=sort(lk,decreasing=TRUE)\n",
    "        nexth=sapply(lk,function(x){c(lk_sort[lk_sort<x],x)[1]})\n",
    "        nexth[nexth==0]=NA\n",
    "        return(nexth)\n",
    "    }\n",
    "    #cleanup previous\n",
    "    likelihoods[,emp_pval_adjust_BH:=NULL,]\n",
    "    likelihoods[,emp_pval_adjust_Bf:=NULL,]\n",
    "    \n",
    "    likelihoods[,lk_rat:=exp(lk-max(lk)),by=c(\"x\",\"y\",exp)]\n",
    "    likelihoods[,lk_norm:=lk_rat/sum(lk_rat),by=c(\"x\",\"y\",exp)]\n",
    "    likelihoods[,lk_rand:=count*log(1/Ng),]\n",
    "    likelihoods[,second_best_ct:=ClusterName[order(-lk)][2],by=c(\"x\",\"y\",exp)]\n",
    "    likelihoods[,emp_pval_adjust_BH:=p.adjust(emp_pval,method = \"BH\"),by=c(\"ClusterName\",exp)]\n",
    "    likelihoods[,emp_pval_adjust_Bf:=p.adjust(emp_pval,method = \"bonferroni\"),by=c(\"ClusterName\",exp)]\n",
    "    likelihoods[,bc:=paste0(x,\"_\",y),]\n",
    "    likelihoods[,ClusterName_simpl:=ifelse(grepl(\"_\",ClusterName),unlist(lapply(strsplit(as.character(ClusterName),\"_\"),\"[[\",2)),ClusterName),]\n",
    "    \n",
    "    return(likelihoods)\n",
    "}"
   ]
  },
  {
   "cell_type": "markdown",
   "metadata": {},
   "source": [
    "### MOB"
   ]
  },
  {
   "cell_type": "code",
   "execution_count": null,
   "metadata": {},
   "outputs": [],
   "source": [
    "thres=c(0.01,0.1) #p-value, lk_norm"
   ]
  },
  {
   "cell_type": "code",
   "execution_count": null,
   "metadata": {},
   "outputs": [],
   "source": [
    "li_norm=fread(\"results/li_norm.tsv\")"
   ]
  },
  {
   "cell_type": "markdown",
   "metadata": {},
   "source": [
    "#### 1x (hd)"
   ]
  },
  {
   "cell_type": "code",
   "execution_count": null,
   "metadata": {},
   "outputs": [],
   "source": [
    "dat=fread(\"MOB/CN13_D2_filtered_red_ut.tsv\")\n",
    "tag=\"li_hd\""
   ]
  },
  {
   "cell_type": "code",
   "execution_count": null,
   "metadata": {},
   "outputs": [],
   "source": [
    "dat=fread(\"MOB_nc/CN13_D2_unmodgtf_filtered_red_ut.tsv\")\n",
    "tag=\"unmodgtf_li_hd\""
   ]
  },
  {
   "cell_type": "code",
   "execution_count": null,
   "metadata": {},
   "outputs": [],
   "source": [
    "dat=fread(\"MOB_nc/CN24_D1_unmodgtf_filtered_red_ut.tsv\")\n",
    "tag=\"D1_unmodgtf_li_hd\""
   ]
  },
  {
   "cell_type": "code",
   "execution_count": null,
   "metadata": {},
   "outputs": [],
   "source": [
    "dat=fread(\"MOB_nc/CN24_E1_unmodgtf_filtered_red_ut.tsv\")\n",
    "tag=\"E1_unmodgtf_li_hd\""
   ]
  },
  {
   "cell_type": "markdown",
   "metadata": {},
   "source": [
    "#### binned "
   ]
  },
  {
   "cell_type": "code",
   "execution_count": null,
   "metadata": {},
   "outputs": [],
   "source": [
    "dat=fread(\"MOB_binned/hdst-lowres.tsv\")\n",
    "tag=\"li_low\""
   ]
  },
  {
   "cell_type": "code",
   "execution_count": null,
   "metadata": {},
   "outputs": [],
   "source": [
    "dat=fread(\"MOB_binned_nc/hdst-lowres.tsv\")\n",
    "tag=\"unmodgtf_li_low\""
   ]
  },
  {
   "cell_type": "code",
   "execution_count": null,
   "metadata": {},
   "outputs": [],
   "source": [
    "dat=fread(\"MOB_binned_nc/D1/hdst-lowres.tsv\")\n",
    "tag=\"D1_unmodgtf_li_low\""
   ]
  },
  {
   "cell_type": "code",
   "execution_count": null,
   "metadata": {},
   "outputs": [],
   "source": [
    "dat=fread(\"MOB_binned_nc/E1/hdst-lowres.tsv\")\n",
    "tag=\"E1_unmodgtf_li_low\""
   ]
  },
  {
   "cell_type": "markdown",
   "metadata": {},
   "source": [
    "#### segmentd"
   ]
  },
  {
   "cell_type": "code",
   "execution_count": null,
   "metadata": {},
   "outputs": [],
   "source": [
    "dat=fread(\"MOB/CN13_D2_filtered_red_ut_segmented.tsv\")\n",
    "tag=\"li_seg\""
   ]
  },
  {
   "cell_type": "code",
   "execution_count": null,
   "metadata": {},
   "outputs": [],
   "source": [
    "dat=fread(\"MOB_nc/CN13_D2_unmodgtf_filtered_red_ut_segmented.tsv\")\n",
    "tag=\"unmodgtf_li_seg\""
   ]
  },
  {
   "cell_type": "code",
   "execution_count": null,
   "metadata": {},
   "outputs": [],
   "source": [
    "dat=fread(\"MOB_nc/CN24_D1_unmodgtf_filtered_red_ut_segmented.tsv\")\n",
    "tag=\"D1_unmodgtf_li_seg\""
   ]
  },
  {
   "cell_type": "code",
   "execution_count": null,
   "metadata": {},
   "outputs": [],
   "source": [
    "dat=fread(\"MOB_nc/CN24_E1_unmodgtf_filtered_red_ut_segmented.tsv\")\n",
    "tag=\"E1_unmodgtf_li_seg\""
   ]
  },
  {
   "cell_type": "markdown",
   "metadata": {},
   "source": [
    "#### here actually run"
   ]
  },
  {
   "cell_type": "code",
   "execution_count": null,
   "metadata": {},
   "outputs": [],
   "source": [
    "ns=1000\n",
    "system.time(\n",
    "expr=likelihoods_li<-calc_lk(li_norm,dat,n_shuff = ns)\n",
    ")\n",
    "write.table(likelihoods_li,paste0(\"results/ct_likelihoods_\",tag,\"_fastp_\",ns,\".tsv\"),sep=\"\\t\",quote=FALSE,row.names=FALSE)\n",
    "likelihoods_li=process_calk_lk(likelihoods = likelihoods_li,Ng = 10000)\n",
    "likelihoods_li[,N_ct:=sum(lk_norm>=thres[2]&emp_pval_adjust_BH<=thres[1]&lk_rat>=0.8,na.rm = TRUE),by=c(\"x\",\"y\")]\n",
    "write.table(likelihoods_li,paste0(\"results/ct_likelihoods_\",tag,\"_fastp_\",ns,\".tsv\"),sep=\"\\t\",quote=FALSE,row.names=FALSE)"
   ]
  },
  {
   "cell_type": "markdown",
   "metadata": {},
   "source": [
    "### Breast cancer"
   ]
  },
  {
   "cell_type": "code",
   "execution_count": null,
   "metadata": {},
   "outputs": [],
   "source": [
    "thres=c(0.05,0.7) #p-value, lk_norm"
   ]
  },
  {
   "cell_type": "code",
   "execution_count": null,
   "metadata": {},
   "outputs": [],
   "source": [
    "tnbc_norm=fread(\"results/tnbc_norm.tsv\")"
   ]
  },
  {
   "cell_type": "markdown",
   "metadata": {},
   "source": [
    "#### 1x (hd)"
   ]
  },
  {
   "cell_type": "code",
   "execution_count": null,
   "metadata": {},
   "outputs": [],
   "source": [
    "dat=fread(\"BC/CN21_BC24350_E2_filtered_red_ut.tsv\")\n",
    "tag=\"E2_tnbc_hd\""
   ]
  },
  {
   "cell_type": "code",
   "execution_count": null,
   "metadata": {},
   "outputs": [],
   "source": [
    "dat=fread(\"BC_nc/CN21_BC24350_E2_unmodgtf_filtered_red_ut.tsv\")\n",
    "tag=\"E2_unmodgtf_tnbc_hd\""
   ]
  },
  {
   "cell_type": "code",
   "execution_count": null,
   "metadata": {},
   "outputs": [],
   "source": [
    "dat=fread(\"BC_nc/CN21_BC24350_C1_unmodgtf_filtered_red_ut.tsv\")\n",
    "tag=\"C1_unmodgtf_tnbc_hd\""
   ]
  },
  {
   "cell_type": "code",
   "execution_count": null,
   "metadata": {},
   "outputs": [],
   "source": [
    "dat=fread(\"BC_nc/CN21_BC24350_D1_unmodgtf_filtered_red_ut.tsv\")\n",
    "tag=\"D1_unmodgtf_tnbc_hd\""
   ]
  },
  {
   "cell_type": "markdown",
   "metadata": {},
   "source": [
    "#### binned "
   ]
  },
  {
   "cell_type": "code",
   "execution_count": null,
   "metadata": {},
   "outputs": [],
   "source": [
    "dat=fread(\"BC_binned/hdst-lowres.tsv\")\n",
    "tag=\"E2_tnbc_low\""
   ]
  },
  {
   "cell_type": "code",
   "execution_count": null,
   "metadata": {},
   "outputs": [],
   "source": [
    "dat=fread(\"BC_binned_nc/hdst-lowres.tsv\")\n",
    "tag=\"E2_unmodgtf_tnbc_low\""
   ]
  },
  {
   "cell_type": "code",
   "execution_count": null,
   "metadata": {},
   "outputs": [],
   "source": [
    "dat=fread(\"BC_binned_nc/C1/hdst-lowres.tsv\")\n",
    "tag=\"C1_unmodgtf_tnbc_low\""
   ]
  },
  {
   "cell_type": "code",
   "execution_count": null,
   "metadata": {},
   "outputs": [],
   "source": [
    "dat=fread(\"BC_binned_nc/D1/hdst-lowres.tsv\")\n",
    "tag=\"D1_unmodgtf_tnbc_low\""
   ]
  },
  {
   "cell_type": "markdown",
   "metadata": {},
   "source": [
    "#### segmentd"
   ]
  },
  {
   "cell_type": "code",
   "execution_count": null,
   "metadata": {},
   "outputs": [],
   "source": [
    "dat=fread(\"BC/CN21_BC24350_E2_filtered_red_ut_segmentd.tsv\")\n",
    "tag=\"E2_tnbc_seg\""
   ]
  },
  {
   "cell_type": "code",
   "execution_count": null,
   "metadata": {},
   "outputs": [],
   "source": [
    "dat=fread(\"BC/CN21_BC24350_E2_unmodgtf_filtered_red_ut_segmentd.tsv\")\n",
    "tag=\"E2_unmodgtf_tnbc_seg\""
   ]
  },
  {
   "cell_type": "markdown",
   "metadata": {},
   "source": [
    "#### here actually run"
   ]
  },
  {
   "cell_type": "code",
   "execution_count": null,
   "metadata": {},
   "outputs": [],
   "source": [
    "ns=1000\n",
    "system.time(\n",
    "expr=likelihoods_tnbc<-calc_lk(tnbc_norm,dat,n_shuff = ns)\n",
    ")\n",
    "write.table(likelihoods_tnbc,paste0(\"results/ct_likelihoods_\",tag,\"_fastp_\",ns,\".tsv\"),sep=\"\\t\",quote=FALSE,row.names=FALSE) #fastp_ns only introduced 5/15\n",
    "likelihoods_tnbc=process_calk_lk(likelihoods = likelihoods_tnbc,Ng = 10000)\n",
    "likelihoods_tnbc[,N_ct:=sum(lk_norm>=thres[2]&emp_pval_adjust_BH<=thres[1]&lk_rat>=0.8,na.rm = TRUE),by=c(\"x\",\"y\")]\n",
    "write.table(likelihoods_tnbc,paste0(\"results/ct_likelihoods_\",tag,\"_fastp_\",ns,\".tsv\"),sep=\"\\t\",quote=FALSE,row.names=FALSE)"
   ]
  }
 ],
 "metadata": {
  "kernelspec": {
   "display_name": "R",
   "language": "R",
   "name": "ir"
  },
  "language_info": {
   "codemirror_mode": "r",
   "file_extension": ".r",
   "mimetype": "text/x-r-source",
   "name": "R",
   "pygments_lexer": "r",
   "version": "3.5.0"
  }
 },
 "nbformat": 4,
 "nbformat_minor": 2
}
