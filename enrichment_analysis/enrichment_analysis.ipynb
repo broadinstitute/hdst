{
 "cells": [
  {
   "cell_type": "code",
   "execution_count": null,
   "metadata": {},
   "outputs": [],
   "source": [
    "library(data.table)"
   ]
  },
  {
   "cell_type": "code",
   "execution_count": null,
   "metadata": {},
   "outputs": [],
   "source": [
    "setwd(project_directory) # set wd to project directory containing all the sub folder"
   ]
  },
  {
   "cell_type": "markdown",
   "metadata": {},
   "source": [
    "### Location enrichment analysis (genes or cells)"
   ]
  },
  {
   "cell_type": "code",
   "execution_count": null,
   "metadata": {},
   "outputs": [],
   "source": [
    "test_loc_enrichment=function(data,lk_thres=NULL,p_thres=NULL,sub_col){\n",
    "    if (!is.null(lk_thres)){dat_filt=data[lk_norm>=lk_thres]}else{dat_filt=data}\n",
    "    if (!is.null(p_thres)){dat_filt=dat_filt[emp_pval_adjust_BH<=p_thres]}\n",
    "    \n",
    "    cts=unique(dat_filt$ClusterName)\n",
    "    anats=unique(dat_filt$layer)\n",
    "    \n",
    "    ftest_res=data.table()\n",
    "    for (ict in cts){\n",
    "        for (ianat in anats){\n",
    "           # print(paste0(ict,\" \",ianat))\n",
    "            cont_mat=matrix(c(dat_filt[ClusterName==ict&layer==ianat,length(unique(get(sub_col)))], \n",
    "                              dat_filt[ClusterName!=ict&layer==ianat,length(unique(get(sub_col)))], \n",
    "                              dat_filt[ClusterName==ict&layer!=ianat,length(unique(get(sub_col)))], \n",
    "                              dat_filt[ClusterName!=ict&layer!=ianat,length(unique(get(sub_col)))]),\n",
    "                            nrow = 2,\n",
    "                            dimnames = list(anat = c(\"yes\", \"no\"),\n",
    "                                            ct = c(\"yes\", \"no\")))\n",
    "            ft=fisher.test(cont_mat,alternative = \"greater\",conf.int = TRUE)\n",
    "            ftest_res=rbindlist(list(ftest_res,data.table(cell_type=ict,\n",
    "                                                          layer=ianat,\n",
    "                                                          p.value=ft$p.value,\n",
    "                                                          cof.int.low=ft$conf.int[1],\n",
    "                                                          cof.int.high=ft$conf.int[2])))\n",
    "        }\n",
    "    }\n",
    "    return(ftest_res)\n",
    "}"
   ]
  },
  {
   "cell_type": "markdown",
   "metadata": {},
   "source": [
    "### MOB cell type enrichment analysis"
   ]
  },
  {
   "cell_type": "code",
   "execution_count": null,
   "metadata": {},
   "outputs": [],
   "source": [
    "anat=fread(\"MOB/CN13_D2_barcodes_under_tissue_annot.tsv\")\n",
    "setnames(anat,\"poly.ID\",\"layer\")"
   ]
  },
  {
   "cell_type": "code",
   "execution_count": null,
   "metadata": {},
   "outputs": [],
   "source": [
    "thres=c(0.01,0.1) #p-value, lk_norm"
   ]
  },
  {
   "cell_type": "markdown",
   "metadata": {},
   "source": [
    "#### 1x (hd)"
   ]
  },
  {
   "cell_type": "code",
   "execution_count": null,
   "metadata": {},
   "outputs": [],
   "source": [
    "lk=fread(\"results/ct_likelihoods_li_hd_fastp_1000.tsv\")\n",
    "tag=\"li_hd\""
   ]
  },
  {
   "cell_type": "code",
   "execution_count": null,
   "metadata": {},
   "outputs": [],
   "source": [
    "lk=fread(\"results/ct_likelihoods_unmodgtf_li_hd_fastp_1000.tsv\")\n",
    "tag=\"unmodgtf_li_hd\""
   ]
  },
  {
   "cell_type": "code",
   "execution_count": null,
   "metadata": {},
   "outputs": [],
   "source": [
    "#prepare\n",
    "lk[,N_ct:=sum(lk_rat>=0.8&lk_norm>=thres[2]&emp_pval_adjust_BH<=thres[1]),by=c(\"x\",\"y\")]\n",
    "lk_anat=merge(lk[lk_rat==1&N_ct==1],anat,by.x=c(\"x\",\"y\"),by.y=c(\"spot_x\",\"spot_y\"))"
   ]
  },
  {
   "cell_type": "markdown",
   "metadata": {},
   "source": [
    "#### binned "
   ]
  },
  {
   "cell_type": "code",
   "execution_count": null,
   "metadata": {},
   "outputs": [],
   "source": [
    "lk=fread(\"results/ct_likelihoods_li_low_fastp_1000.tsv\")\n",
    "coords=fread(\"MOB_binned/hdst-lowres-coordinates.csv\")\n",
    "tag=\"li_low\""
   ]
  },
  {
   "cell_type": "code",
   "execution_count": null,
   "metadata": {},
   "outputs": [],
   "source": [
    "lk=fread(\"results/ct_likelihoods_unmodgtf_li_low_fastp_1000.tsv\")\n",
    "coords=fread(\"MOB_binned/hdst-lowres-coordinates.csv\")\n",
    "tag=\"unmodgtf_li_low\""
   ]
  },
  {
   "cell_type": "code",
   "execution_count": null,
   "metadata": {},
   "outputs": [],
   "source": [
    "#prepare\n",
    "sub=lk[bin==\"5x\"]\n",
    "sub[,N_ct:=sum(lk_rat>=0.8&lk_norm>=thres[2]&emp_pval_adjust_BH<=thres[1]),by=c(\"x\",\"y\")]\n",
    "lk_anat=merge(sub[lk_rat==1&N_ct==1],\n",
    "                       unique(coords[,c(\"region\",\"5x_x\",\"5x_y\"),with=FALSE][!duplicated(cbind(`5x_x`,`5x_y`))]),\n",
    "                       by.x=c(\"x\",\"y\"),\n",
    "                       by.y=c(\"5x_x\",\"5x_y\"))\n",
    "setnames(lk_anat,\"region\",\"layer\")"
   ]
  },
  {
   "cell_type": "markdown",
   "metadata": {},
   "source": [
    "#### segmentd"
   ]
  },
  {
   "cell_type": "code",
   "execution_count": null,
   "metadata": {},
   "outputs": [],
   "source": [
    "lk=fread(\"results/ct_likelihoods_li_seg_fastp_1000.tsv\")\n",
    "tag=\"li_seg\""
   ]
  },
  {
   "cell_type": "code",
   "execution_count": null,
   "metadata": {},
   "outputs": [],
   "source": [
    "lk=fread(\"results/ct_likelihoods_unmodgtf_li_seg_fastp_1000.tsv\")\n",
    "tag=\"unmodgtf_li_seg\""
   ]
  },
  {
   "cell_type": "code",
   "execution_count": null,
   "metadata": {},
   "outputs": [],
   "source": [
    "#prepare\n",
    "lk[,N_ct:=sum(lk_rat>=0.8&lk_norm>=thres[2]&emp_pval_adjust_BH<=thres[1]),by=c(\"x\",\"y\")]\n",
    "lk_anat=merge(lk[lk_rat==1&N_ct==1],anat,by.x=c(\"x\",\"y\"),by.y=c(\"spot_x\",\"spot_y\"))"
   ]
  },
  {
   "cell_type": "markdown",
   "metadata": {},
   "source": [
    "#### here actually run"
   ]
  },
  {
   "cell_type": "code",
   "execution_count": null,
   "metadata": {},
   "outputs": [],
   "source": [
    "#enrichment analyis\n",
    "res_li=test_loc_enrichment(data = lk_anat,p_thres = thres[1],lk_thres = thres[2],sub_col = \"bc\")\n",
    "res_li[,p.value.adjust:=p.adjust(p.value,method = \"BY\"),]\n",
    "write.table(res_li,paste0(\"results/ct_anat_enrich_\",tag,\".tsv\"),sep=\"\\t\", quote=FALSE,row.names=FALSE)"
   ]
  },
  {
   "cell_type": "markdown",
   "metadata": {},
   "source": [
    "### Breast cancer cell type enrichment analysis"
   ]
  },
  {
   "cell_type": "code",
   "execution_count": null,
   "metadata": {},
   "outputs": [],
   "source": [
    "anat=fread(\"BC/CN21_BC24350_E2_barcodes_under_tissue_annot.tsv\")\n",
    "setnames(anat,\"poly.ID\",\"layer\")"
   ]
  },
  {
   "cell_type": "code",
   "execution_count": null,
   "metadata": {},
   "outputs": [],
   "source": [
    "thres=c(0.05,0.7) #p-value, lk_norm"
   ]
  },
  {
   "cell_type": "markdown",
   "metadata": {},
   "source": [
    "#### 1x (hd)"
   ]
  },
  {
   "cell_type": "code",
   "execution_count": null,
   "metadata": {},
   "outputs": [],
   "source": [
    "lk=fread(\"results/ct_likelihoods_E2_tnbc_hd.tsv\")\n",
    "tag=\"E2_tnbc_hd\""
   ]
  },
  {
   "cell_type": "code",
   "execution_count": null,
   "metadata": {},
   "outputs": [],
   "source": [
    "lk=fread(\"results/ct_likelihoods_E2_unmodgtf_tnbc_hd.tsv\")\n",
    "tag=\"E2_unmodgtf_tnbc_hd\""
   ]
  },
  {
   "cell_type": "code",
   "execution_count": null,
   "metadata": {},
   "outputs": [],
   "source": [
    "#prepare\n",
    "lk[,N_ct:=sum(lk_rat>=0.8&lk_norm>=thres[2]&emp_pval_adjust_BH<=thres[1]),by=c(\"x\",\"y\")]\n",
    "lk_anat=merge(lk[lk_rat==1&N_ct==1],anat,by.x=c(\"x\",\"y\"),by.y=c(\"spot_x\",\"spot_y\"))"
   ]
  },
  {
   "cell_type": "markdown",
   "metadata": {},
   "source": [
    "#### binned "
   ]
  },
  {
   "cell_type": "code",
   "execution_count": null,
   "metadata": {},
   "outputs": [],
   "source": [
    "lk=fread(\"results/ct_likelihoods_E2_tnbc_low.tsv\")\n",
    "coords=fread(\"BC_binned/hdst-breast-cancer-lowres-coordinates.csv\")\n",
    "tag=\"E2_tnbc_low\""
   ]
  },
  {
   "cell_type": "code",
   "execution_count": null,
   "metadata": {},
   "outputs": [],
   "source": [
    "lk=fread(\"results/ct_likelihoods_E2_unmodgtf_tnbc_low.tsv\")\n",
    "coords=fread(\"BC_binned/hdst-breast-cancer-lowres-coordinates.csv\")\n",
    "tag=\"E2_unmodgtf_tnbc_low\""
   ]
  },
  {
   "cell_type": "code",
   "execution_count": null,
   "metadata": {},
   "outputs": [],
   "source": [
    "#prepare\n",
    "sub=lk[bin==\"5x\"]\n",
    "sub[,N_ct:=sum(lk_rat>=0.8&lk_norm>=thres[2]&emp_pval_adjust_BH<=thres[1]),by=c(\"x\",\"y\")]\n",
    "lk_anat=merge(sub[lk_rat==1&N_ct==1],\n",
    "                       unique(coords[,c(\"region\",\"5x_x\",\"5x_y\"),with=FALSE][!duplicated(cbind(`5x_x`,`5x_y`))]),\n",
    "                       by.x=c(\"x\",\"y\"),\n",
    "                       by.y=c(\"5x_x\",\"5x_y\"))\n",
    "setnames(lk_anat,\"region\",\"layer\")"
   ]
  },
  {
   "cell_type": "markdown",
   "metadata": {},
   "source": [
    "#### segmentd"
   ]
  },
  {
   "cell_type": "code",
   "execution_count": null,
   "metadata": {},
   "outputs": [],
   "source": [
    "lk=fread(\"results/ct_likelihoods_E2_tnbc_seg.tsv\")\n",
    "tag=\"E2_tnbc_seg\""
   ]
  },
  {
   "cell_type": "code",
   "execution_count": null,
   "metadata": {},
   "outputs": [],
   "source": [
    "lk=fread(\"results/ct_likelihoods_E2_unmodgtf_tnbc_seg.tsv\")\n",
    "tag=\"E2_unmodgtf_tnbc_seg\""
   ]
  },
  {
   "cell_type": "code",
   "execution_count": null,
   "metadata": {},
   "outputs": [],
   "source": [
    "#prepare\n",
    "lk[,N_ct:=sum(lk_rat>=0.8&lk_norm>=thres[2]&emp_pval_adjust_BH<=thres[1]),by=c(\"x\",\"y\")]\n",
    "lk_anat=merge(lk[lk_rat==1&N_ct==1],anat,by.x=c(\"x\",\"y\"),by.y=c(\"spot_x\",\"spot_y\"))"
   ]
  },
  {
   "cell_type": "markdown",
   "metadata": {},
   "source": [
    "#### here actually run"
   ]
  },
  {
   "cell_type": "code",
   "execution_count": null,
   "metadata": {},
   "outputs": [],
   "source": [
    "#enrichment analyis\n",
    "res_li=test_loc_enrichment(data = lk_anat,p_thres = thres[1],lk_thres = thres[2],sub_col = \"bc\")\n",
    "res_li[,p.value.adjust:=p.adjust(p.value,method = \"BY\"),]\n",
    "write.table(res_li,paste0(\"results/ct_anat_enrich_\",tag,\".tsv\"),sep=\"\\t\", quote=FALSE,row.names=FALSE)"
   ]
  },
  {
   "cell_type": "markdown",
   "metadata": {},
   "source": [
    "### MOB enrichment of HDST layer specific genes in layers specific genes according to ABA"
   ]
  },
  {
   "cell_type": "code",
   "execution_count": null,
   "metadata": {},
   "outputs": [],
   "source": [
    "#aba genes\n",
    "aba_layer_spec=fread(\"ext_data/aba_MOB_diff.tsv\")"
   ]
  },
  {
   "cell_type": "code",
   "execution_count": null,
   "metadata": {},
   "outputs": [],
   "source": [
    "#hdst genes\n",
    "hdst_markers=fread(\"DE/Table_DEGs.csv\",drop = \"V1\")\n",
    "setnames(hdst_markers,names(hdst_markers),c(\"gene\",\"lfc\",\"p.value\",\"ClusterName\"))\n",
    "pthres=0.1\n",
    "tag=\"\""
   ]
  },
  {
   "cell_type": "code",
   "execution_count": null,
   "metadata": {},
   "outputs": [],
   "source": [
    "#hdst genes\n",
    "hdst_markers=fread(\"DE/mob_region_de_unmodgtf.csv\")\n",
    "setnames(hdst_markers,names(hdst_markers),c(\"gene\",\"lfc\",\"p.value\",\"ClusterName\"))\n",
    "pthres=0.05\n",
    "tag=\"_unmodgtf\""
   ]
  },
  {
   "cell_type": "code",
   "execution_count": null,
   "metadata": {},
   "outputs": [],
   "source": [
    "hdst_aba=merge(hdst_markers[lfc>1.5& p.value<pthres],aba_layer_spec[`fold-change`>1.5],by=\"gene\",all=FALSE)"
   ]
  },
  {
   "cell_type": "code",
   "execution_count": null,
   "metadata": {},
   "outputs": [],
   "source": [
    "#remove ONL because it doesn't exist in ABA\n",
    "hdst_aba=hdst_aba[!ClusterName==\"Olfactory Nerve Layer (ONL)\"]\n",
    "#combine some layers to match ABA annotation\n",
    "hdst_aba[ClusterName%in%c(\"Granule Cell Layer External (GCL-E)\",\"Granule Cell Layer Internal (GCL-I)\",\"Rostral Migratory System (RMS)\",\"Ependymal Cell Zone (E)\"),ClusterName:=\"Granule Layer (GR)\",]"
   ]
  },
  {
   "cell_type": "code",
   "execution_count": null,
   "metadata": {},
   "outputs": [],
   "source": [
    "hdst_aba_enrich=test_loc_enrichment(hdst_aba,sub_col = \"gene\")\n",
    "hdst_aba_enrich[,p.adjust:=p.adjust(p.value,method = \"BY\"),]"
   ]
  },
  {
   "cell_type": "code",
   "execution_count": null,
   "metadata": {},
   "outputs": [],
   "source": [
    "write.table(hdst_aba_enrich,paste0(\"results/aba_deg_enrich\",tag,\".tsv\"),sep=\"\\t\", quote=FALSE,row.names=FALSE)"
   ]
  }
 ],
 "metadata": {
  "kernelspec": {
   "display_name": "R",
   "language": "R",
   "name": "ir"
  },
  "language_info": {
   "codemirror_mode": "r",
   "file_extension": ".r",
   "mimetype": "text/x-r-source",
   "name": "R",
   "pygments_lexer": "r",
   "version": "3.5.0"
  }
 },
 "nbformat": 4,
 "nbformat_minor": 2
}
