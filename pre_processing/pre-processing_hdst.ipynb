{
 "cells": [
  {
   "cell_type": "code",
   "execution_count": null,
   "metadata": {},
   "outputs": [],
   "source": [
    "library(data.table)"
   ]
  },
  {
   "cell_type": "code",
   "execution_count": null,
   "metadata": {},
   "outputs": [],
   "source": [
    "setwd(project_directory) # set wd to project directory containing all the sub folder"
   ]
  },
  {
   "cell_type": "markdown",
   "metadata": {},
   "source": [
    "### Process HDST data"
   ]
  },
  {
   "cell_type": "markdown",
   "metadata": {},
   "source": [
    "Correct coordinates and compress (long format) HDST data"
   ]
  },
  {
   "cell_type": "code",
   "execution_count": 7,
   "metadata": {},
   "outputs": [],
   "source": [
    "prep_hdst_data=function(dir,sample,genes,plot=FALSE){\n",
    "    adjust.y=function(bc){\n",
    "      spl=as.numeric(unlist(strsplit(as.character(bc),\"x\")))\n",
    "      x=spl[1]\n",
    "      y=spl[2]\n",
    "      if (y <= 255){\n",
    "        y=y+529\n",
    "      }else if (y >= 530){\n",
    "        y=y-529\n",
    "      }\n",
    "      return(paste0(x,\"x\",y))\n",
    "    }\n",
    "    if (file.exists(paste0(dir,\"/\",sample,\"_filtered_red_ut.tsv\"))){\n",
    "        dat_long_filt_annot_red=fread(paste0(dir,\"/\",sample,\"_filtered_red_ut.tsv\"))\n",
    "        pl=ggplot(dat_long_filt_annot_red[sample(1:nrow(dat_long_filt_annot_red),40000)],aes(y=spot_px_y,x=spot_px_x))+geom_point(size=0.5)+coord_fixed()\n",
    "        png(paste0(dir,\"/\",sample,\"_filtered_corrected.png\"),height=500,width=700)\n",
    "        print(pl)\n",
    "        dev.off()\n",
    "        return(dat_long_filt_annot_red)\n",
    "    }\n",
    "    \n",
    "    dat=fread(paste0(dir,\"/\",sample,\"_filtered.tsv.gz\"))\n",
    "    sel_bc=fread(paste0(dir,\"/\",sub(\"_unmodgtf|_modgtf\",\"\",sample),\"_barcodes_under_tissue.tsv\"))\n",
    "    if (any(grepl(\"ENS\",dat$V1))){\n",
    "        message(\"Running in transpose mode\")\n",
    "        chunks=unique(c(seq(from=2,to=ncol(dat),by=1000),ncol(dat)))\n",
    "        steps=as.data.table(cbind(from=chunks[-length(chunks)],to=chunks[-1]-1))\n",
    "        steps[nrow(steps),to:=to+1,]\n",
    "    \n",
    "        dat_long=data.table()\n",
    "        for (i in 1:nrow(steps)){\n",
    "            cat(paste0(i,\" \"))\n",
    "            from=steps[i]$from\n",
    "            to=steps[i]$to\n",
    "            dat_long_tmp=melt(dat[,c(1,from:to),with=FALSE],id.vars=c(\"V1\"),variable.name = \"bc_old\")\n",
    "            dat_long_tmp[,bc:=adjust.y(bc_old[1]),by=bc_old]\n",
    "            dat_long=rbindlist(list(dat_long,dat_long_tmp[value>0]))\n",
    "            }\n",
    "        setnames(dat_long,c(\"V1\",\"value\"),c(\"ensGV\",\"count\"))\n",
    "        setcolorder(dat_long,c(\"bc_old\",\"bc\",\"ensGV\",\"count\"))\n",
    "\n",
    "    }else{\n",
    "        dat[,V2:=adjust.y(V1),by=1:nrow(dat)]\n",
    "        chunks=unique(c(seq(from=1,to=nrow(dat),by=1000),nrow(dat)))\n",
    "        steps=as.data.table(cbind(from=chunks[-length(chunks)],to=chunks[-1]-1))\n",
    "        steps[nrow(steps),to:=to+1,]\n",
    "    \n",
    "        dat_long=data.table()\n",
    "        for (i in 1:nrow(steps)){\n",
    "          cat(paste0(i,\" \"))\n",
    "          from=steps[i]$from\n",
    "          to=steps[i]$to\n",
    "          dat_long_tmp=melt(dat[from:to,],id.vars=c(\"V1\",\"V2\"))\n",
    "          dat_long=rbindlist(list(dat_long,dat_long_tmp[value>0]))\n",
    "        }\n",
    "        setnames(dat_long,names(dat_long),c(\"bc_old\",\"bc\",\"ensGV\",\"count\"))\n",
    "    }\n",
    "    \n",
    "    dat_long_filt=dat_long[!grepl(\"\\\\+\",ensGV)]\n",
    "    \n",
    "    dat_long_filt[,ensG:=unlist(strsplit(as.character(ensGV),\"\\\\.\"))[1],by=1:nrow(dat_long_filt)]\n",
    "    dat_long_filt[,x:=as.numeric(unlist(strsplit(as.character(bc),\"x\"))[1]),by=1:nrow(dat_long_filt)]\n",
    "    dat_long_filt[,y:=as.numeric(unlist(strsplit(as.character(bc),\"x\"))[2]),by=1:nrow(dat_long_filt)]\n",
    "    \n",
    "    dat_long_filt_annot=merge(dat_long_filt,genes,by=\"ensG\",all.x=TRUE)\n",
    "    dat_long_filt_annot_red=merge(dat_long_filt_annot,sel_bc,by.x=c(\"x\",\"y\"),by.y=c(\"spot_x\",\"spot_y\"))\n",
    "    \n",
    "    write.table(dat_long_filt_annot,paste0(dir,\"/\",sample,\"_filtered_red.tsv\"),sep=\"\\t\",row.names=FALSE,quote=FALSE)\n",
    "    write.table(dat_long_filt_annot_red,paste0(dir,\"/\",sample,\"_filtered_red_ut.tsv\"),sep=\"\\t\",row.names=FALSE,quote=FALSE)\n",
    "    if (plot == TRUE){\n",
    "    pl=ggplot(dat_long_filt_annot_red[sample(1:nrow(dat_long_filt_annot_red),40000)],aes(y=spot_px_y,x=spot_px_x))+geom_point(size=0.5)+coord_fixed()\n",
    "    png(paste0(dir,\"/\",sample,\"_filtered_corrected.png\"),height=500,width=700)\n",
    "    print(pl)\n",
    "    dev.off()\n",
    "  }\n",
    "    return(dat_long_filt_annot_red)\n",
    "}"
   ]
  },
  {
   "cell_type": "markdown",
   "metadata": {},
   "source": [
    "##### MOB data"
   ]
  },
  {
   "cell_type": "code",
   "execution_count": null,
   "metadata": {},
   "outputs": [],
   "source": [
    "genes=fread(\"ext_data/ensemble_gene_names_V94.txt\")\n",
    "setnames(genes,names(genes),c(\"ensGV\",\"ensG\",\"gene\"))"
   ]
  },
  {
   "cell_type": "code",
   "execution_count": 22,
   "metadata": {},
   "outputs": [],
   "source": [
    "dat=prep_hdst_data(\"MOB\",\"CN13_D2\",genes,TRUE)"
   ]
  },
  {
   "cell_type": "code",
   "execution_count": 21,
   "metadata": {},
   "outputs": [],
   "source": [
    "dat=prep_hdst_data(\"MOB\",\"CN24_D1\",genes,TRUE)"
   ]
  },
  {
   "cell_type": "code",
   "execution_count": null,
   "metadata": {},
   "outputs": [],
   "source": [
    "dat=prep_hdst_data(\"MOB\",\"CN24_E1\",genes,TRUE)"
   ]
  },
  {
   "cell_type": "code",
   "execution_count": null,
   "metadata": {},
   "outputs": [],
   "source": [
    "dat=prep_hdst_data(\"MOB_nc\",\"CN13_D2_unmodgtf\",genes,TRUE)"
   ]
  },
  {
   "cell_type": "code",
   "execution_count": null,
   "metadata": {},
   "outputs": [],
   "source": [
    "dat=prep_hdst_data(\"MOB_nc\",\"CN24_D1_unmodgtf\",genes,TRUE)"
   ]
  },
  {
   "cell_type": "code",
   "execution_count": null,
   "metadata": {},
   "outputs": [],
   "source": [
    "dat=prep_hdst_data(\"MOB_nc\",\"CN24_E1_unmodgtf\",genes,TRUE)"
   ]
  },
  {
   "cell_type": "markdown",
   "metadata": {},
   "source": [
    "##### Breast cancer data"
   ]
  },
  {
   "cell_type": "code",
   "execution_count": null,
   "metadata": {},
   "outputs": [],
   "source": [
    "genes=fread(\"ext_data/ensemble_gene_names_human_V96.txt\")\n",
    "setnames(genes,names(genes),c(\"ensGV\",\"ensG\",\"gene\"))"
   ]
  },
  {
   "cell_type": "code",
   "execution_count": null,
   "metadata": {},
   "outputs": [],
   "source": [
    "dat=prep_hdst_data(\"BC\",\"CN21_BC24350_E2\",genes,TRUE)"
   ]
  },
  {
   "cell_type": "code",
   "execution_count": null,
   "metadata": {},
   "outputs": [],
   "source": [
    "dat=prep_hdst_data(\"BC_nc/\",\"CN21_BC24350_E2_unmodgtf\",genes,TRUE)"
   ]
  },
  {
   "cell_type": "markdown",
   "metadata": {},
   "source": [
    "### Process segmented HDST data"
   ]
  },
  {
   "cell_type": "code",
   "execution_count": null,
   "metadata": {},
   "outputs": [],
   "source": [
    "# for MOB (standard gtf)\n",
    "dat=fread(\"MOB_nc/CN13_D2_filtered_red_ut.tsv\")\n",
    "seg=fread(\"MOB/CellID_Spot_Position_CN13_D2_filtered_red_ut.csv\")\n",
    "tag=\"CN13_D2\"\n",
    "dir=\"MOB\""
   ]
  },
  {
   "cell_type": "code",
   "execution_count": null,
   "metadata": {},
   "outputs": [],
   "source": [
    "# for MOB (nc gtf)\n",
    "dat=fread(\"MOB_nc/CN13_D2_unmodgtf_filtered_red_ut.tsv\")\n",
    "seg=fread(\"MOB/CellID_Spot_Position_CN13_D2_filtered_red_ut.csv\")\n",
    "tag=\"CN13_D2_unmodgtf\"\n",
    "dir=\"MOB_nc\""
   ]
  },
  {
   "cell_type": "code",
   "execution_count": 10,
   "metadata": {},
   "outputs": [],
   "source": [
    "# for MOB (nc gtf)\n",
    "dat=fread(\"MOB_nc/CN24_D1_unmodgtf_filtered_red_ut.tsv\")\n",
    "seg=fread(\"MOB_nc/CellID_Spot_Position_CN24_D1_unmodgtf_filtered_red_ut_flipped.csv\")\n",
    "tag=\"CN24_D1_unmodgtf\"\n",
    "dir=\"MOB_nc\""
   ]
  },
  {
   "cell_type": "code",
   "execution_count": 14,
   "metadata": {},
   "outputs": [],
   "source": [
    "# for MOB (nc gtf)\n",
    "dat=fread(\"MOB_nc/CN24_E1_unmodgtf_filtered_red_ut.tsv\")\n",
    "seg=fread(\"MOB_nc/CellID_Spot_Position_CN24_E1_unmodgtf_filtered_red_ut_flipped.csv\")\n",
    "tag=\"CN24_E1_unmodgtf\"\n",
    "dir=\"MOB_nc\""
   ]
  },
  {
   "cell_type": "code",
   "execution_count": null,
   "metadata": {},
   "outputs": [],
   "source": [
    "# for BC (nc gtf)\n",
    "dat=fread(\"BC_nc/CN21_BC24350_E2_unmodgtf_filtered_red_ut.tsv\")\n",
    "seg=fread(\"BC/CellID_Spot_Position_CN21_E2_filtered_red_ut_BC_flipped.csv\")\n",
    "tag=\"CN21_BC24350_E2_unmodgtf\"\n",
    "dir=\"BC_nc\" #previously stored in BC"
   ]
  },
  {
   "cell_type": "markdown",
   "metadata": {},
   "source": [
    "#### here run"
   ]
  },
  {
   "cell_type": "code",
   "execution_count": 15,
   "metadata": {},
   "outputs": [
    {
     "data": {
      "text/html": [
       "<table>\n",
       "<thead><tr><th scope=col>bc</th><th scope=col>x</th><th scope=col>y</th><th scope=col>ensG</th><th scope=col>bc_old</th><th scope=col>ensGV.x</th><th scope=col>count</th><th scope=col>ensGV.y</th><th scope=col>gene</th><th scope=col>spot_px_y</th><th scope=col>spot_px_x</th><th scope=col>cell_id</th><th scope=col>x_centroid</th><th scope=col>y_centroid</th><th scope=col>N_bc</th></tr></thead>\n",
       "<tbody>\n",
       "\t<tr><td>1000x187             </td><td>1000                 </td><td>187                  </td><td>ENSMUSG00000002985   </td><td>1000x716             </td><td>ENSMUSG00000002985.16</td><td>1                    </td><td>ENSMUSG00000002985.16</td><td>Apoe                 </td><td>2295                 </td><td>10077                </td><td>25146                </td><td>10067.29             </td><td>5306.808             </td><td>10                   </td></tr>\n",
       "\t<tr><td>1000x187             </td><td>1000                 </td><td>187                  </td><td>ENSMUSG00000020193   </td><td>1000x716             </td><td>ENSMUSG00000020193.3 </td><td>1                    </td><td>ENSMUSG00000020193.3 </td><td>Zpbp                 </td><td>2295                 </td><td>10077                </td><td>25146                </td><td>10067.29             </td><td>5306.808             </td><td>10                   </td></tr>\n",
       "\t<tr><td>1000x187             </td><td>1000                 </td><td>187                  </td><td>ENSMUSG00000020483   </td><td>1000x716             </td><td>ENSMUSG00000020483.14</td><td>1                    </td><td>ENSMUSG00000020483.14</td><td>Dynll2               </td><td>2295                 </td><td>10077                </td><td>25146                </td><td>10067.29             </td><td>5306.808             </td><td>10                   </td></tr>\n",
       "\t<tr><td>1000x187             </td><td>1000                 </td><td>187                  </td><td>ENSMUSG00000025907   </td><td>1000x716             </td><td>ENSMUSG00000025907.14</td><td>1                    </td><td>ENSMUSG00000025907.14</td><td>Rb1cc1               </td><td>2295                 </td><td>10077                </td><td>25146                </td><td>10067.29             </td><td>5306.808             </td><td>10                   </td></tr>\n",
       "\t<tr><td>1000x187             </td><td>1000                 </td><td>187                  </td><td>ENSMUSG00000029635   </td><td>1000x716             </td><td>ENSMUSG00000029635.15</td><td>1                    </td><td>ENSMUSG00000029635.15</td><td>Cdk8                 </td><td>2295                 </td><td>10077                </td><td>25146                </td><td>10067.29             </td><td>5306.808             </td><td>10                   </td></tr>\n",
       "\t<tr><td>1000x187             </td><td>1000                 </td><td>187                  </td><td>ENSMUSG00000035202   </td><td>1000x716             </td><td>ENSMUSG00000035202.7 </td><td>1                    </td><td>ENSMUSG00000035202.8 </td><td>Lars2                </td><td>2295                 </td><td>10077                </td><td>25146                </td><td>10067.29             </td><td>5306.808             </td><td>10                   </td></tr>\n",
       "</tbody>\n",
       "</table>\n"
      ],
      "text/latex": [
       "\\begin{tabular}{r|lllllllllllllll}\n",
       " bc & x & y & ensG & bc\\_old & ensGV.x & count & ensGV.y & gene & spot\\_px\\_y & spot\\_px\\_x & cell\\_id & x\\_centroid & y\\_centroid & N\\_bc\\\\\n",
       "\\hline\n",
       "\t 1000x187              & 1000                  & 187                   & ENSMUSG00000002985    & 1000x716              & ENSMUSG00000002985.16 & 1                     & ENSMUSG00000002985.16 & Apoe                  & 2295                  & 10077                 & 25146                 & 10067.29              & 5306.808              & 10                   \\\\\n",
       "\t 1000x187              & 1000                  & 187                   & ENSMUSG00000020193    & 1000x716              & ENSMUSG00000020193.3  & 1                     & ENSMUSG00000020193.3  & Zpbp                  & 2295                  & 10077                 & 25146                 & 10067.29              & 5306.808              & 10                   \\\\\n",
       "\t 1000x187              & 1000                  & 187                   & ENSMUSG00000020483    & 1000x716              & ENSMUSG00000020483.14 & 1                     & ENSMUSG00000020483.14 & Dynll2                & 2295                  & 10077                 & 25146                 & 10067.29              & 5306.808              & 10                   \\\\\n",
       "\t 1000x187              & 1000                  & 187                   & ENSMUSG00000025907    & 1000x716              & ENSMUSG00000025907.14 & 1                     & ENSMUSG00000025907.14 & Rb1cc1                & 2295                  & 10077                 & 25146                 & 10067.29              & 5306.808              & 10                   \\\\\n",
       "\t 1000x187              & 1000                  & 187                   & ENSMUSG00000029635    & 1000x716              & ENSMUSG00000029635.15 & 1                     & ENSMUSG00000029635.15 & Cdk8                  & 2295                  & 10077                 & 25146                 & 10067.29              & 5306.808              & 10                   \\\\\n",
       "\t 1000x187              & 1000                  & 187                   & ENSMUSG00000035202    & 1000x716              & ENSMUSG00000035202.7  & 1                     & ENSMUSG00000035202.8  & Lars2                 & 2295                  & 10077                 & 25146                 & 10067.29              & 5306.808              & 10                   \\\\\n",
       "\\end{tabular}\n"
      ],
      "text/markdown": [
       "\n",
       "| bc | x | y | ensG | bc_old | ensGV.x | count | ensGV.y | gene | spot_px_y | spot_px_x | cell_id | x_centroid | y_centroid | N_bc |\n",
       "|---|---|---|---|---|---|---|---|---|---|---|---|---|---|---|\n",
       "| 1000x187              | 1000                  | 187                   | ENSMUSG00000002985    | 1000x716              | ENSMUSG00000002985.16 | 1                     | ENSMUSG00000002985.16 | Apoe                  | 2295                  | 10077                 | 25146                 | 10067.29              | 5306.808              | 10                    |\n",
       "| 1000x187              | 1000                  | 187                   | ENSMUSG00000020193    | 1000x716              | ENSMUSG00000020193.3  | 1                     | ENSMUSG00000020193.3  | Zpbp                  | 2295                  | 10077                 | 25146                 | 10067.29              | 5306.808              | 10                    |\n",
       "| 1000x187              | 1000                  | 187                   | ENSMUSG00000020483    | 1000x716              | ENSMUSG00000020483.14 | 1                     | ENSMUSG00000020483.14 | Dynll2                | 2295                  | 10077                 | 25146                 | 10067.29              | 5306.808              | 10                    |\n",
       "| 1000x187              | 1000                  | 187                   | ENSMUSG00000025907    | 1000x716              | ENSMUSG00000025907.14 | 1                     | ENSMUSG00000025907.14 | Rb1cc1                | 2295                  | 10077                 | 25146                 | 10067.29              | 5306.808              | 10                    |\n",
       "| 1000x187              | 1000                  | 187                   | ENSMUSG00000029635    | 1000x716              | ENSMUSG00000029635.15 | 1                     | ENSMUSG00000029635.15 | Cdk8                  | 2295                  | 10077                 | 25146                 | 10067.29              | 5306.808              | 10                    |\n",
       "| 1000x187              | 1000                  | 187                   | ENSMUSG00000035202    | 1000x716              | ENSMUSG00000035202.7  | 1                     | ENSMUSG00000035202.8  | Lars2                 | 2295                  | 10077                 | 25146                 | 10067.29              | 5306.808              | 10                    |\n",
       "\n"
      ],
      "text/plain": [
       "  bc       x    y   ensG               bc_old   ensGV.x               count\n",
       "1 1000x187 1000 187 ENSMUSG00000002985 1000x716 ENSMUSG00000002985.16 1    \n",
       "2 1000x187 1000 187 ENSMUSG00000020193 1000x716 ENSMUSG00000020193.3  1    \n",
       "3 1000x187 1000 187 ENSMUSG00000020483 1000x716 ENSMUSG00000020483.14 1    \n",
       "4 1000x187 1000 187 ENSMUSG00000025907 1000x716 ENSMUSG00000025907.14 1    \n",
       "5 1000x187 1000 187 ENSMUSG00000029635 1000x716 ENSMUSG00000029635.15 1    \n",
       "6 1000x187 1000 187 ENSMUSG00000035202 1000x716 ENSMUSG00000035202.7  1    \n",
       "  ensGV.y               gene   spot_px_y spot_px_x cell_id x_centroid\n",
       "1 ENSMUSG00000002985.16 Apoe   2295      10077     25146   10067.29  \n",
       "2 ENSMUSG00000020193.3  Zpbp   2295      10077     25146   10067.29  \n",
       "3 ENSMUSG00000020483.14 Dynll2 2295      10077     25146   10067.29  \n",
       "4 ENSMUSG00000025907.14 Rb1cc1 2295      10077     25146   10067.29  \n",
       "5 ENSMUSG00000029635.15 Cdk8   2295      10077     25146   10067.29  \n",
       "6 ENSMUSG00000035202.8  Lars2  2295      10077     25146   10067.29  \n",
       "  y_centroid N_bc\n",
       "1 5306.808   10  \n",
       "2 5306.808   10  \n",
       "3 5306.808   10  \n",
       "4 5306.808   10  \n",
       "5 5306.808   10  \n",
       "6 5306.808   10  "
      ]
     },
     "metadata": {},
     "output_type": "display_data"
    },
    {
     "data": {
      "text/html": [
       "856994"
      ],
      "text/latex": [
       "856994"
      ],
      "text/markdown": [
       "856994"
      ],
      "text/plain": [
       "[1] 856994"
      ]
     },
     "metadata": {},
     "output_type": "display_data"
    }
   ],
   "source": [
    "dat_seg_pre=merge(dat,seg[cell_id!=0],by=\"bc\")\n",
    "dat_seg_pre[,c(\"x\",\"y\",\"N_bc\"):=list(x[1],y[1],length(unique(bc))),by=\"cell_id\"] #assign the x y coordinates of the first barcode to each cell id such that each cell id only has 1 xy coordinate\n",
    "head(dat_seg_pre)\n",
    "nrow(dat_seg_pre)"
   ]
  },
  {
   "cell_type": "code",
   "execution_count": 16,
   "metadata": {},
   "outputs": [
    {
     "data": {
      "text/html": [
       "<table>\n",
       "<thead><tr><th scope=col>cell_id</th><th scope=col>x_centroid</th><th scope=col>y_centroid</th><th scope=col>N_bc</th><th scope=col>gene</th><th scope=col>x</th><th scope=col>y</th><th scope=col>bc</th><th scope=col>count</th><th scope=col>spot_px_y</th><th scope=col>spot_px_x</th></tr></thead>\n",
       "<tbody>\n",
       "\t<tr><td>25146                   </td><td>10067.29                </td><td>5306.808                </td><td>10                      </td><td>Apoe                    </td><td>1000                    </td><td>187                     </td><td>1000x187                </td><td>1                       </td><td>2295                    </td><td>10077                   </td></tr>\n",
       "\t<tr><td>25146                   </td><td>10067.29                </td><td>5306.808                </td><td>10                      </td><td>Zpbp                    </td><td>1000                    </td><td>187                     </td><td>1000x187                </td><td>1                       </td><td>2295                    </td><td>10077                   </td></tr>\n",
       "\t<tr><td>25146                   </td><td>10067.29                </td><td>5306.808                </td><td>10                      </td><td>Dynll2                  </td><td>1000                    </td><td>187                     </td><td>1000x187                </td><td>1                       </td><td>2295                    </td><td>10077                   </td></tr>\n",
       "\t<tr><td>25146                   </td><td>10067.29                </td><td>5306.808                </td><td>10                      </td><td>Rb1cc1                  </td><td>1000                    </td><td>187                     </td><td>1000x187                </td><td>1                       </td><td>2295                    </td><td>10077                   </td></tr>\n",
       "\t<tr><td>25146                   </td><td>10067.29                </td><td>5306.808                </td><td>10                      </td><td>Cdk8                    </td><td>1000                    </td><td>187                     </td><td>1000x187 996x186 999x189</td><td>3                       </td><td>2295                    </td><td>10077                   </td></tr>\n",
       "\t<tr><td>25146                   </td><td>10067.29                </td><td>5306.808                </td><td>10                      </td><td>Lars2                   </td><td>1000                    </td><td>187                     </td><td>1000x187                </td><td>1                       </td><td>2295                    </td><td>10077                   </td></tr>\n",
       "</tbody>\n",
       "</table>\n"
      ],
      "text/latex": [
       "\\begin{tabular}{r|lllllllllll}\n",
       " cell\\_id & x\\_centroid & y\\_centroid & N\\_bc & gene & x & y & bc & count & spot\\_px\\_y & spot\\_px\\_x\\\\\n",
       "\\hline\n",
       "\t 25146                    & 10067.29                 & 5306.808                 & 10                       & Apoe                     & 1000                     & 187                      & 1000x187                 & 1                        & 2295                     & 10077                   \\\\\n",
       "\t 25146                    & 10067.29                 & 5306.808                 & 10                       & Zpbp                     & 1000                     & 187                      & 1000x187                 & 1                        & 2295                     & 10077                   \\\\\n",
       "\t 25146                    & 10067.29                 & 5306.808                 & 10                       & Dynll2                   & 1000                     & 187                      & 1000x187                 & 1                        & 2295                     & 10077                   \\\\\n",
       "\t 25146                    & 10067.29                 & 5306.808                 & 10                       & Rb1cc1                   & 1000                     & 187                      & 1000x187                 & 1                        & 2295                     & 10077                   \\\\\n",
       "\t 25146                    & 10067.29                 & 5306.808                 & 10                       & Cdk8                     & 1000                     & 187                      & 1000x187 996x186 999x189 & 3                        & 2295                     & 10077                   \\\\\n",
       "\t 25146                    & 10067.29                 & 5306.808                 & 10                       & Lars2                    & 1000                     & 187                      & 1000x187                 & 1                        & 2295                     & 10077                   \\\\\n",
       "\\end{tabular}\n"
      ],
      "text/markdown": [
       "\n",
       "| cell_id | x_centroid | y_centroid | N_bc | gene | x | y | bc | count | spot_px_y | spot_px_x |\n",
       "|---|---|---|---|---|---|---|---|---|---|---|\n",
       "| 25146                    | 10067.29                 | 5306.808                 | 10                       | Apoe                     | 1000                     | 187                      | 1000x187                 | 1                        | 2295                     | 10077                    |\n",
       "| 25146                    | 10067.29                 | 5306.808                 | 10                       | Zpbp                     | 1000                     | 187                      | 1000x187                 | 1                        | 2295                     | 10077                    |\n",
       "| 25146                    | 10067.29                 | 5306.808                 | 10                       | Dynll2                   | 1000                     | 187                      | 1000x187                 | 1                        | 2295                     | 10077                    |\n",
       "| 25146                    | 10067.29                 | 5306.808                 | 10                       | Rb1cc1                   | 1000                     | 187                      | 1000x187                 | 1                        | 2295                     | 10077                    |\n",
       "| 25146                    | 10067.29                 | 5306.808                 | 10                       | Cdk8                     | 1000                     | 187                      | 1000x187 996x186 999x189 | 3                        | 2295                     | 10077                    |\n",
       "| 25146                    | 10067.29                 | 5306.808                 | 10                       | Lars2                    | 1000                     | 187                      | 1000x187                 | 1                        | 2295                     | 10077                    |\n",
       "\n"
      ],
      "text/plain": [
       "  cell_id x_centroid y_centroid N_bc gene   x    y   bc                      \n",
       "1 25146   10067.29   5306.808   10   Apoe   1000 187 1000x187                \n",
       "2 25146   10067.29   5306.808   10   Zpbp   1000 187 1000x187                \n",
       "3 25146   10067.29   5306.808   10   Dynll2 1000 187 1000x187                \n",
       "4 25146   10067.29   5306.808   10   Rb1cc1 1000 187 1000x187                \n",
       "5 25146   10067.29   5306.808   10   Cdk8   1000 187 1000x187 996x186 999x189\n",
       "6 25146   10067.29   5306.808   10   Lars2  1000 187 1000x187                \n",
       "  count spot_px_y spot_px_x\n",
       "1 1     2295      10077    \n",
       "2 1     2295      10077    \n",
       "3 1     2295      10077    \n",
       "4 1     2295      10077    \n",
       "5 3     2295      10077    \n",
       "6 1     2295      10077    "
      ]
     },
     "metadata": {},
     "output_type": "display_data"
    },
    {
     "data": {
      "text/html": [
       "22229"
      ],
      "text/latex": [
       "22229"
      ],
      "text/markdown": [
       "22229"
      ],
      "text/plain": [
       "[1] 22229"
      ]
     },
     "metadata": {},
     "output_type": "display_data"
    },
    {
     "data": {
      "text/html": [
       "684443"
      ],
      "text/latex": [
       "684443"
      ],
      "text/markdown": [
       "684443"
      ],
      "text/plain": [
       "[1] 684443"
      ]
     },
     "metadata": {},
     "output_type": "display_data"
    },
    {
     "data": {
      "text/plain": [
       "\n",
       "    1 \n",
       "22229 "
      ]
     },
     "metadata": {},
     "output_type": "display_data"
    },
    {
     "data": {
      "text/plain": [
       "\n",
       "    1 \n",
       "22229 "
      ]
     },
     "metadata": {},
     "output_type": "display_data"
    }
   ],
   "source": [
    "dat_seg=dat_seg_pre[,.(bc=paste0(bc,collapse = \" \"),count=sum(count),spot_px_y=spot_px_y[1],spot_px_x=spot_px_x[1]),by=c(\"cell_id\",\"x_centroid\",\"y_centroid\",\"N_bc\",\"gene\",\"x\",\"y\")]\n",
    "head(dat_seg)\n",
    "length(unique(dat_seg$cell_id))\n",
    "nrow(dat_seg)\n",
    "table(dat_seg[,length(unique(cell_id)),by=c(\"x\",\"y\")]$V1) #make sure each coordinate only hase one cell id\n",
    "table(dat_seg[,length(unique(paste0(x,\"_\",y))),by=c(\"cell_id\")]$V1) #make sure each cell id only has one coordinate"
   ]
  },
  {
   "cell_type": "code",
   "execution_count": 17,
   "metadata": {},
   "outputs": [],
   "source": [
    "write.table(dat_seg,paste0(dir,\"/\",tag,\"_filtered_red_ut_segmented.tsv\"),sep=\"\\t\",quote=FALSE,row.names = FALSE)"
   ]
  },
  {
   "cell_type": "markdown",
   "metadata": {},
   "source": [
    "### Process binned HDST data"
   ]
  },
  {
   "cell_type": "code",
   "execution_count": 2,
   "metadata": {},
   "outputs": [],
   "source": [
    "#for MOB (standard gtf)\n",
    "bin_sizes=c(\"5x\",\"10x\",\"20x\",\"38x\",\"38x-thin\")\n",
    "dir=\"MOB_binned\""
   ]
  },
  {
   "cell_type": "code",
   "execution_count": null,
   "metadata": {},
   "outputs": [],
   "source": [
    "#for MOB (nc gtf)\n",
    "bin_sizes=c(\"5x\")\n",
    "dir=\"MOB_binned_nc\""
   ]
  },
  {
   "cell_type": "code",
   "execution_count": 3,
   "metadata": {},
   "outputs": [],
   "source": [
    "#for MOB (nc gtf) new sample\n",
    "bin_sizes=c(\"5x\")\n",
    "dir=\"MOB_binned_nc/E1\""
   ]
  },
  {
   "cell_type": "code",
   "execution_count": 7,
   "metadata": {},
   "outputs": [],
   "source": [
    "#for MOB (nc gtf) new sample\n",
    "bin_sizes=c(\"5x\")\n",
    "dir=\"MOB_binned_nc/D1\""
   ]
  },
  {
   "cell_type": "code",
   "execution_count": 2,
   "metadata": {},
   "outputs": [],
   "source": [
    "#for BC (standard gtf)\n",
    "bin_sizes=c(\"5x\")\n",
    "dir=\"BC_binned\""
   ]
  },
  {
   "cell_type": "code",
   "execution_count": 2,
   "metadata": {},
   "outputs": [],
   "source": [
    "#for BC (nc gtf)\n",
    "bin_sizes=c(\"5x\")\n",
    "dir=\"BC_binned_nc\""
   ]
  },
  {
   "cell_type": "code",
   "execution_count": 3,
   "metadata": {},
   "outputs": [],
   "source": [
    "#for BC (nc gtf)\n",
    "bin_sizes=c(\"5x\")\n",
    "dir=\"BC_binned_nc/C1\""
   ]
  },
  {
   "cell_type": "code",
   "execution_count": 7,
   "metadata": {},
   "outputs": [],
   "source": [
    "#for BC (nc gtf)\n",
    "bin_sizes=c(\"5x\")\n",
    "dir=\"BC_binned_nc/D1\""
   ]
  },
  {
   "cell_type": "code",
   "execution_count": 8,
   "metadata": {},
   "outputs": [
    {
     "name": "stdout",
     "output_type": "stream",
     "text": [
      "[1] \"BC_binned_nc/D1/hdst-breast-cancer-D1-lowres-5x.csv.gz\"\n"
     ]
    }
   ],
   "source": [
    "dat_all_bin=data.table()\n",
    "for (bin in bin_sizes){\n",
    "    dat_file=list.files(path = dir,pattern = paste0(\"hdst.*lowres-\",bin,\".csv.*\"),full.names = TRUE)\n",
    "    bins_file=list.files(path = dir,pattern = paste0(\"hdst.*lowres-\",bin,\"-bins.csv.*\"),full.names = TRUE)\n",
    "    print(dat_file)\n",
    "    dat=fread(dat_file)\n",
    "    bins=fread(bins_file)\n",
    "    dat[,x:=bins$x,]\n",
    "    dat[,y:=bins$y,]\n",
    "    dat_long=melt(dat,id.vars = c(\"x\",\"y\"),variable.name = \"gene\",value.name = \"count\")\n",
    "    dat_long=dat_long[count>0]\n",
    "    dat_long[,bin:=bin,]\n",
    "    dat_long[,bc:=paste0(x,\"_\",y),]\n",
    "    dat_all_bin=rbindlist(list(dat_all_bin,dat_long))\n",
    "}"
   ]
  },
  {
   "cell_type": "code",
   "execution_count": 9,
   "metadata": {},
   "outputs": [
    {
     "data": {
      "text/html": [
       "<table>\n",
       "<thead><tr><th scope=col>x</th><th scope=col>y</th><th scope=col>gene</th><th scope=col>count</th><th scope=col>bin</th><th scope=col>bc</th></tr></thead>\n",
       "<tbody>\n",
       "\t<tr><td>241    </td><td> 67    </td><td>TSPAN6 </td><td>1      </td><td>5x     </td><td>241_67 </td></tr>\n",
       "\t<tr><td> 76    </td><td>134    </td><td>DPM1   </td><td>1      </td><td>5x     </td><td>76_134 </td></tr>\n",
       "\t<tr><td> 94    </td><td> 80    </td><td>DPM1   </td><td>1      </td><td>5x     </td><td>94_80  </td></tr>\n",
       "\t<tr><td>142    </td><td>155    </td><td>DPM1   </td><td>1      </td><td>5x     </td><td>142_155</td></tr>\n",
       "\t<tr><td>144    </td><td>156    </td><td>DPM1   </td><td>1      </td><td>5x     </td><td>144_156</td></tr>\n",
       "\t<tr><td>185    </td><td> 16    </td><td>DPM1   </td><td>1      </td><td>5x     </td><td>185_16 </td></tr>\n",
       "</tbody>\n",
       "</table>\n"
      ],
      "text/latex": [
       "\\begin{tabular}{r|llllll}\n",
       " x & y & gene & count & bin & bc\\\\\n",
       "\\hline\n",
       "\t 241       &  67       & TSPAN6    & 1         & 5x        & 241\\_67 \\\\\n",
       "\t  76       & 134       & DPM1      & 1         & 5x        & 76\\_134 \\\\\n",
       "\t  94       &  80       & DPM1      & 1         & 5x        & 94\\_80  \\\\\n",
       "\t 142       & 155       & DPM1      & 1         & 5x        & 142\\_155\\\\\n",
       "\t 144       & 156       & DPM1      & 1         & 5x        & 144\\_156\\\\\n",
       "\t 185       &  16       & DPM1      & 1         & 5x        & 185\\_16 \\\\\n",
       "\\end{tabular}\n"
      ],
      "text/markdown": [
       "\n",
       "| x | y | gene | count | bin | bc |\n",
       "|---|---|---|---|---|---|\n",
       "| 241     |  67     | TSPAN6  | 1       | 5x      | 241_67  |\n",
       "|  76     | 134     | DPM1    | 1       | 5x      | 76_134  |\n",
       "|  94     |  80     | DPM1    | 1       | 5x      | 94_80   |\n",
       "| 142     | 155     | DPM1    | 1       | 5x      | 142_155 |\n",
       "| 144     | 156     | DPM1    | 1       | 5x      | 144_156 |\n",
       "| 185     |  16     | DPM1    | 1       | 5x      | 185_16  |\n",
       "\n"
      ],
      "text/plain": [
       "  x   y   gene   count bin bc     \n",
       "1 241  67 TSPAN6 1     5x  241_67 \n",
       "2  76 134 DPM1   1     5x  76_134 \n",
       "3  94  80 DPM1   1     5x  94_80  \n",
       "4 142 155 DPM1   1     5x  142_155\n",
       "5 144 156 DPM1   1     5x  144_156\n",
       "6 185  16 DPM1   1     5x  185_16 "
      ]
     },
     "metadata": {},
     "output_type": "display_data"
    }
   ],
   "source": [
    "head(dat_all_bin)"
   ]
  },
  {
   "cell_type": "code",
   "execution_count": 10,
   "metadata": {},
   "outputs": [],
   "source": [
    "write.table(dat_all_bin,paste0(dir,\"/hdst-lowres.tsv\"),sep=\"\\t\",quote=FALSE,row.names=FALSE)"
   ]
  },
  {
   "cell_type": "markdown",
   "metadata": {},
   "source": [
    "### Process standard ST"
   ]
  },
  {
   "cell_type": "code",
   "execution_count": 90,
   "metadata": {},
   "outputs": [],
   "source": [
    "prep_st=function(mat){\n",
    "    mat[,x:=unlist(strsplit(V1,\"x\"))[1],by=1:nrow(mat)]\n",
    "    mat[,y:=unlist(strsplit(V1,\"x\"))[2],by=1:nrow(mat)]\n",
    "    mat_long=melt(mat[,-c(\"V1\"),],id.vars = c(\"x\",\"y\"),variable.name = \"gene\",value.name = \"count\")\n",
    "    return(mat_long[count>0])\n",
    "}"
   ]
  },
  {
   "cell_type": "code",
   "execution_count": 91,
   "metadata": {},
   "outputs": [
    {
     "name": "stderr",
     "output_type": "stream",
     "text": [
      "Warning message in fread(\"MOB_STST/Rep4_MOB1x.csv\"):\n",
      "\"Detected 15941 column names but the data has 15942 columns (i.e. invalid file). Added 1 extra default column name for the first column which is guessed to be row names or an index. Use setnames() afterwards if this guess is not correct, or fix the file write command that created the file to create a valid file.\""
     ]
    }
   ],
   "source": [
    "st_dat=fread(\"MOB_STST/Rep4_MOB1x.csv\")"
   ]
  },
  {
   "cell_type": "code",
   "execution_count": 92,
   "metadata": {},
   "outputs": [],
   "source": [
    "st_long=prep_st(st_dat)"
   ]
  },
  {
   "cell_type": "code",
   "execution_count": 94,
   "metadata": {},
   "outputs": [
    {
     "data": {
      "text/html": [
       "<table>\n",
       "<thead><tr><th scope=col>x</th><th scope=col>y</th><th scope=col>gene</th><th scope=col>count</th></tr></thead>\n",
       "<tbody>\n",
       "\t<tr><td>16.105 </td><td>29.003 </td><td>Mx1    </td><td>1      </td></tr>\n",
       "\t<tr><td>16.105 </td><td>29.003 </td><td>Cenpa  </td><td>1      </td></tr>\n",
       "\t<tr><td>16.105 </td><td>29.003 </td><td>Snora17</td><td>1      </td></tr>\n",
       "\t<tr><td>16.984 </td><td>29.022 </td><td>Nlrp5  </td><td>1      </td></tr>\n",
       "\t<tr><td>16.984 </td><td>29.022 </td><td>Sned1  </td><td>1      </td></tr>\n",
       "\t<tr><td>16.984 </td><td>29.022 </td><td>Gm933  </td><td>1      </td></tr>\n",
       "</tbody>\n",
       "</table>\n"
      ],
      "text/latex": [
       "\\begin{tabular}{r|llll}\n",
       " x & y & gene & count\\\\\n",
       "\\hline\n",
       "\t 16.105  & 29.003  & Mx1     & 1      \\\\\n",
       "\t 16.105  & 29.003  & Cenpa   & 1      \\\\\n",
       "\t 16.105  & 29.003  & Snora17 & 1      \\\\\n",
       "\t 16.984  & 29.022  & Nlrp5   & 1      \\\\\n",
       "\t 16.984  & 29.022  & Sned1   & 1      \\\\\n",
       "\t 16.984  & 29.022  & Gm933   & 1      \\\\\n",
       "\\end{tabular}\n"
      ],
      "text/markdown": [
       "\n",
       "x | y | gene | count | \n",
       "|---|---|---|---|---|---|\n",
       "| 16.105  | 29.003  | Mx1     | 1       | \n",
       "| 16.105  | 29.003  | Cenpa   | 1       | \n",
       "| 16.105  | 29.003  | Snora17 | 1       | \n",
       "| 16.984  | 29.022  | Nlrp5   | 1       | \n",
       "| 16.984  | 29.022  | Sned1   | 1       | \n",
       "| 16.984  | 29.022  | Gm933   | 1       | \n",
       "\n",
       "\n"
      ],
      "text/plain": [
       "  x      y      gene    count\n",
       "1 16.105 29.003 Mx1     1    \n",
       "2 16.105 29.003 Cenpa   1    \n",
       "3 16.105 29.003 Snora17 1    \n",
       "4 16.984 29.022 Nlrp5   1    \n",
       "5 16.984 29.022 Sned1   1    \n",
       "6 16.984 29.022 Gm933   1    "
      ]
     },
     "metadata": {},
     "output_type": "display_data"
    }
   ],
   "source": [
    "tail(st_long)"
   ]
  },
  {
   "cell_type": "code",
   "execution_count": 95,
   "metadata": {},
   "outputs": [],
   "source": [
    "write.table(st_long,\"MOB_STST/Rep4_MOB1x_long.tsv\",sep=\"\\t\",quote=FALSE,row.names=FALSE)"
   ]
  },
  {
   "cell_type": "markdown",
   "metadata": {},
   "source": [
    "### Annotate barcodes with anatomic features"
   ]
  },
  {
   "cell_type": "code",
   "execution_count": null,
   "metadata": {},
   "outputs": [],
   "source": [
    "library(data.table)\n",
    "library(raster)\n",
    "library(rgeos)\n",
    "library(ggplot2)"
   ]
  },
  {
   "cell_type": "code",
   "execution_count": null,
   "metadata": {},
   "outputs": [],
   "source": [
    "setwd(data_dir) #set wd to directory containing the polygon file as well as the barcodes under tissue  file"
   ]
  },
  {
   "cell_type": "code",
   "execution_count": null,
   "metadata": {},
   "outputs": [],
   "source": [
    "annotate_bc=function(sample,plot=TRUE,max_dist=Inf,n_chunks=NULL,flip=TRUE){\n",
    "  #read data\n",
    "  poly=fread(paste0(sample,\"_annotations.txt\"))\n",
    "  print(nrow(poly))\n",
    "  bc=fread(paste0(sample,\"_barcodes_under_tissue.tsv\"))\n",
    "  poly[value==\"\",value:=\"Unknown\"]\n",
    "  if (any(\"polygon\"%in%names(poly))){setnames(poly,\"polygon\",\"x_y\")}\n",
    "\n",
    "  \n",
    "  #convert polygons table into list\n",
    "  poly_long=poly[,.(x_y=strsplit(x_y,\" \"),value),by=1:nrow(poly)]\n",
    "  poly_list=apply(poly_long,1,function(x){r=lapply(strsplit(unlist(x[\"x_y\"]),\",\"),as.numeric);r=lapply(r,function(x){if(length(x)==1){x=c(x,NA)};return(x)});r=t(as.data.table(r));colnames(r)=c(\"x\",\"y\");return(na.omit(r))})\n",
    "  names(poly_list)=poly_long$value\n",
    "  \n",
    "  #make list of polygon objects\n",
    "  sp=rapply(poly_list, Polygon,hole=FALSE, how = \"replace\")\n",
    "  sp=lapply(1:length(sp), function(i) {Polygons(sp[i], as.character(i))})\n",
    "  \n",
    "  #make spatial poligons object\n",
    "  pols=SpatialPolygons(sp)\n",
    "  plot(pols)\n",
    "  \n",
    "  #prepare HD_ST coordinates (need to be mirrored at y-axis in some samples)\n",
    "  if (flip==TRUE){\n",
    "    print(\"Flipping y axis.\")\n",
    "    flipped_bc=bc[,.(spot_px_x=spot_px_x,spot_px_y=-(spot_px_y-min(spot_px_y))+(max(spot_px_y))),]\n",
    "  }else{\n",
    "    print(\"Not flipping y axis.\")\n",
    "    flipped_bc=bc[,.(spot_px_x=spot_px_x,spot_px_y=spot_px_y),]\n",
    "  }\n",
    "  \n",
    "  #overlap polygons and HD_ST coordinates\n",
    "  nr=nrow(flipped_bc)\n",
    "  print(nr)\n",
    "\n",
    "    if (!is.null(n_chunks)){\n",
    "      chunks_size=floor(nr/n_chunks)\n",
    "      e=data.table()\n",
    "      for (i in 0:n_chunks){\n",
    "        start=i*chunks_size+1\n",
    "        end=ifelse(i==n_chunks,nr,(i+1)*chunks_size)\n",
    "        if (start > nr){break}\n",
    "        print(paste0(\"Processing chunk \",start,\" to \",end))\n",
    "        e1 = as.data.table(extract(pols, flipped_bc[start:end]))\n",
    "        e1[,point.ID:=point.ID+(start-1),]\n",
    "        e=rbindlist(list(e,e1))\n",
    "      }\n",
    "    }else{\n",
    "      e = as.data.table(extract(pols, flipped_bc))\n",
    "    }  \n",
    "  \n",
    "  e[,poly:=poly.ID,]\n",
    "  e[,poly.ID:=names(poly_list)[poly],]\n",
    "  \n",
    "  #find nearest polygons for HD_ST coordinates that don't fall into a polygon\n",
    "  print(\"Now assigning missing.\")\n",
    "  missing_id=e[is.na(poly.ID)]$point.ID\n",
    "  missing=flipped_bc[missing_id,]\n",
    "  missing[,point.ID:=missing_id,]\n",
    "  sp_pts=SpatialPoints(missing[,c(\"spot_px_x\", \"spot_px_y\"),])\n",
    "  dist=gDistance(sp_pts,pols,byid = TRUE)\n",
    "  if(max_dist!=Inf){\n",
    "  dist=apply(dist,c(1,2),function(x){ifelse(x>max_dist,NA,x)})\n",
    "  missing[,np:=apply(dist,2,function(x){res=which.min(x);ifelse(length(res)>0,res,NA)})]\n",
    "  missing=missing[!is.na(np)]\n",
    "  }else{\n",
    "    missing[,np:=apply(dist,2,which.min)]\n",
    "  }\n",
    "  missing[,poly:=np,]\n",
    "  missing[,poly.ID:=names(poly_list)[np],]\n",
    "  \n",
    "  #combine annotations from primary and secondary assignment\n",
    "  e_complete=rbindlist(list(e[!is.na(poly.ID)],missing[,c(\"point.ID\",\"poly.ID\",\"poly\"),]),use.names = TRUE)\n",
    "  \n",
    "  #merge with original HD_ST coordinates file\n",
    "  bc[,point.ID:=1:nrow(bc),]  \n",
    "  bc_annot=unique(merge(bc,e_complete,by=\"point.ID\",all.x=TRUE))  \n",
    "  bc_annot[is.na(poly.ID),poly.ID:=\"missing\",]\n",
    "  bc_annot=bc_annot[!duplicated(point.ID)] #just take the first entry if a barcode is assigned to several annotations\n",
    "  \n",
    "  if (plot == TRUE){\n",
    "    pl=ggplot(bc_annot,aes(y=spot_px_y,x=spot_px_x,col=poly.ID))+geom_point(size=0.5)+coord_fixed()\n",
    "    png(paste0(sample,\"_bc_annot.png\"),height=500,width=700)\n",
    "    print(pl)\n",
    "    dev.off()\n",
    "  }\n",
    "  write.table(bc_annot,paste0(sample,\"_barcodes_under_tissue_annot.tsv\"),sep=\"\\t\",quote=FALSE,row.names=FALSE)\n",
    "  return(bc_annot)\n",
    "}"
   ]
  },
  {
   "cell_type": "markdown",
   "metadata": {},
   "source": [
    "##### MOB"
   ]
  },
  {
   "cell_type": "code",
   "execution_count": null,
   "metadata": {},
   "outputs": [],
   "source": [
    "bc=annotate_bc(\"CN13_D2\",TRUE)"
   ]
  },
  {
   "cell_type": "markdown",
   "metadata": {},
   "source": [
    "#### Breast cancer"
   ]
  },
  {
   "cell_type": "code",
   "execution_count": null,
   "metadata": {},
   "outputs": [],
   "source": [
    "bc=annotate_bc(\"CN21_BC24350_E2\",TRUE,max_dist = 5,n_chunks = 10,flip = FALSE)"
   ]
  }
 ],
 "metadata": {
  "kernelspec": {
   "display_name": "R",
   "language": "R",
   "name": "ir"
  },
  "language_info": {
   "codemirror_mode": "r",
   "file_extension": ".r",
   "mimetype": "text/x-r-source",
   "name": "R",
   "pygments_lexer": "r",
   "version": "3.5.0"
  }
 },
 "nbformat": 4,
 "nbformat_minor": 2
}
