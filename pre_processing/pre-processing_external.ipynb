{
 "cells": [
  {
   "cell_type": "code",
   "execution_count": null,
   "metadata": {},
   "outputs": [],
   "source": [
    "library(data.table)"
   ]
  },
  {
   "cell_type": "code",
   "execution_count": null,
   "metadata": {},
   "outputs": [],
   "source": [
    "setwd(project_directory) # set wd to project directory containing all the sub folder"
   ]
  },
  {
   "cell_type": "markdown",
   "metadata": {},
   "source": [
    "### Allen Brain Atlas (ABA) data"
   ]
  },
  {
   "cell_type": "markdown",
   "metadata": {},
   "source": [
    "#### ABA layer specific genes"
   ]
  },
  {
   "cell_type": "code",
   "execution_count": null,
   "metadata": {},
   "outputs": [],
   "source": [
    "ABA_genes=readLines(\"ext_data/aba_mob-genes_raw.txt\")\n",
    "head(ABA_genes)"
   ]
  },
  {
   "cell_type": "code",
   "execution_count": null,
   "metadata": {},
   "outputs": [],
   "source": [
    "ABA_genes_dt=rbindlist(lapply(ABA_genes,function(x){\n",
    "    spl=unlist(strsplit(x,\",\"))\n",
    "    g=spl[-c(1)];n=spl[1]\n",
    "    dt=data.table(layer=n,gene=g)\n",
    "    return(dt)}\n",
    "                             )\n",
    "                      )\n",
    "head(ABA_genes_dt)\n",
    "write.table(ABA_genes_dt,\"ext_data/aba_mob-genes.txt\",sep=\"\\t\",quote = FALSE,row.names=FALSE)"
   ]
  },
  {
   "cell_type": "markdown",
   "metadata": {},
   "source": [
    "#### ABA differential genes"
   ]
  },
  {
   "cell_type": "code",
   "execution_count": null,
   "metadata": {},
   "outputs": [],
   "source": [
    "ABA_diff_files=list.files(path = \"ext_data/\",\"aba_MOB.*.csv\",full.names = TRUE)\n",
    "head(ABA_diff_files)"
   ]
  },
  {
   "cell_type": "code",
   "execution_count": null,
   "metadata": {},
   "outputs": [],
   "source": [
    "ABA_diff_dt=data.table()\n",
    "for (diff_file in ABA_diff_files){\n",
    "    tab=fread(diff_file)\n",
    "    tab[,layer:=unlist(strsplit(diff_file,\"MOB|\\\\.\"))[2]]\n",
    "    ABA_diff_dt=rbindlist(list(ABA_diff_dt,tab))\n",
    "}\n",
    "setnames(ABA_diff_dt,\"gene-symbol\",\"gene\")\n",
    "head(ABA_diff_dt)\n",
    "write.table(ABA_diff_dt,\"ext_data/aba_MOB_diff.tsv\",sep=\"\\t\",quote=FALSE,row.names=FALSE)"
   ]
  },
  {
   "cell_type": "markdown",
   "metadata": {},
   "source": [
    "### Mouse olfactory bulb (MOB) single cell RNA-seq data (Linnarsson)"
   ]
  },
  {
   "cell_type": "markdown",
   "metadata": {},
   "source": [
    "Calculating the normalized expression values (relative frequencies) for each relevant cell type for the MOB data"
   ]
  },
  {
   "cell_type": "code",
   "execution_count": 19,
   "metadata": {},
   "outputs": [],
   "source": [
    "li_mean=fread(\"ext_data/li_mean_expr.tsv\")"
   ]
  },
  {
   "cell_type": "code",
   "execution_count": 20,
   "metadata": {},
   "outputs": [
    {
     "data": {
      "text/html": [
       "27998"
      ],
      "text/latex": [
       "27998"
      ],
      "text/markdown": [
       "27998"
      ],
      "text/plain": [
       "[1] 27998"
      ]
     },
     "metadata": {},
     "output_type": "display_data"
    }
   ],
   "source": [
    "nrow(li_mean)"
   ]
  },
  {
   "cell_type": "code",
   "execution_count": 21,
   "metadata": {},
   "outputs": [
    {
     "data": {
      "text/html": [
       "56"
      ],
      "text/latex": [
       "56"
      ],
      "text/markdown": [
       "56"
      ],
      "text/plain": [
       "[1] 56"
      ]
     },
     "metadata": {},
     "output_type": "display_data"
    }
   ],
   "source": [
    "#there are duplicated gene names in the mean expression matrix, but we don't know why, so we leave them in\n",
    "dupl_genes=unique(li_mean$V1[duplicated(li_mean$V1)])\n",
    "length(dupl_genes)"
   ]
  },
  {
   "cell_type": "code",
   "execution_count": 24,
   "metadata": {},
   "outputs": [],
   "source": [
    "li_norm=melt(li_mean[,c(grep(\"^OB\",names(li_mean)),grep(\"Neuron\",names(li_mean),invert = TRUE)),with=FALSE],id.vars = \"V1\",variable.name = \"ClusterName\")"
   ]
  },
  {
   "cell_type": "code",
   "execution_count": 25,
   "metadata": {},
   "outputs": [],
   "source": [
    "li_norm[,norm:=value/sum(value),by=\"ClusterName\"]\n",
    "li_norm[,log_norm:=log(norm),]\n",
    "setnames(li_norm,\"V1\",\"gene\")"
   ]
  },
  {
   "cell_type": "code",
   "execution_count": 28,
   "metadata": {},
   "outputs": [
    {
     "data": {
      "text/html": [
       "63"
      ],
      "text/latex": [
       "63"
      ],
      "text/markdown": [
       "63"
      ],
      "text/plain": [
       "[1] 63"
      ]
     },
     "metadata": {},
     "output_type": "display_data"
    }
   ],
   "source": [
    "N_ct=length(unique(li_norm$ClusterName))\n",
    "N_ct"
   ]
  },
  {
   "cell_type": "code",
   "execution_count": 29,
   "metadata": {},
   "outputs": [
    {
     "data": {
      "text/html": [
       "5848"
      ],
      "text/latex": [
       "5848"
      ],
      "text/markdown": [
       "5848"
      ],
      "text/plain": [
       "[1] 5848"
      ]
     },
     "metadata": {},
     "output_type": "display_data"
    }
   ],
   "source": [
    "#some genes have 0 expression for all of the cell types.\n",
    "li_norm[,N_zero_ct:=length(unique(ClusterName[norm==0])),by=gene]\n",
    "length(unique(li_norm[N_zero_ct==N_ct]$gene))"
   ]
  },
  {
   "cell_type": "code",
   "execution_count": 31,
   "metadata": {},
   "outputs": [
    {
     "data": {
      "text/html": [
       "22085"
      ],
      "text/latex": [
       "22085"
      ],
      "text/markdown": [
       "22085"
      ],
      "text/plain": [
       "[1] 22085"
      ]
     },
     "metadata": {},
     "output_type": "display_data"
    }
   ],
   "source": [
    "#number of genes that are expressed in at least one cell type\n",
    "Ngenes=length(unique(li_norm[N_zero_ct!=N_ct]$gene))\n",
    "Ngenes"
   ]
  },
  {
   "cell_type": "code",
   "execution_count": 13,
   "metadata": {},
   "outputs": [],
   "source": [
    "write.table(li_norm,\"results/li_norm.tsv\",sep=\"\\t\",quote=FALSE,row.names=FALSE) #data as published"
   ]
  },
  {
   "cell_type": "markdown",
   "metadata": {},
   "source": [
    "### Triple negative breast cancer (tnbc) single-cell RNA seq data \n",
    "https://www.nature.com/articles/s41467-018-06052-0#Sec24  \n",
    "GSE118389: https://www.ncbi.nlm.nih.gov/geo/query/acc.cgi?acc=GSE118389"
   ]
  },
  {
   "cell_type": "markdown",
   "metadata": {},
   "source": [
    "Calculating the normalized expression values (relative frequencies) for each relevant cell type for the breast cancer data"
   ]
  },
  {
   "cell_type": "code",
   "execution_count": 3,
   "metadata": {},
   "outputs": [
    {
     "name": "stderr",
     "output_type": "stream",
     "text": [
      "Warning message in fread(file.path(\"ext_data/GSE118389_tnbc/GSE118389_counts_rsem.txt\")):\n",
      "\"Detected 1534 column names but the data has 1535 columns (i.e. invalid file). Added 1 extra default column name for the first column which is guessed to be row names or an index. Use setnames() afterwards if this guess is not correct, or fix the file write command that created the file to create a valid file.\""
     ]
    },
    {
     "data": {
      "text/html": [
       "<table>\n",
       "<thead><tr><th scope=col>V1</th><th scope=col>PT089_P1_A01</th><th scope=col>PT089_P1_A02</th><th scope=col>PT089_P1_A03</th><th scope=col>PT089_P1_A04</th><th scope=col>PT089_P1_A05</th><th scope=col>PT089_P1_A06</th><th scope=col>PT089_P1_A07</th><th scope=col>PT089_P1_A08</th><th scope=col>PT089_P1_A09</th><th scope=col>...</th><th scope=col>PT039_P10_H03_S279</th><th scope=col>PT039_P10_H04_S280</th><th scope=col>PT039_P10_H05_S281</th><th scope=col>PT039_P10_H06_S282</th><th scope=col>PT039_P10_H07_S283</th><th scope=col>PT039_P10_H08_S284</th><th scope=col>PT039_P10_H09_S285</th><th scope=col>PT039_P10_H10_S286</th><th scope=col>PT039_P10_H11_S287</th><th scope=col>PT039_P10_H12_S288</th></tr></thead>\n",
       "<tbody>\n",
       "\t<tr><td>ZXDC   </td><td>1.76   </td><td>  5.06 </td><td>4.86   </td><td>2.57   </td><td>  7.48 </td><td>   7.26</td><td>12.10  </td><td>2.61   </td><td> 7.59  </td><td>...    </td><td>0.00   </td><td>0      </td><td>0.00   </td><td>0      </td><td>1275.78</td><td>2.03   </td><td>  0.00 </td><td>0.00   </td><td>0.00   </td><td>85.87  </td></tr>\n",
       "\t<tr><td>ZYG11A </td><td>4.73   </td><td>111.84 </td><td>1.26   </td><td>0.00   </td><td>  1.42 </td><td>   7.26</td><td>12.36  </td><td>4.72   </td><td>13.45  </td><td>...    </td><td>0.00   </td><td>0      </td><td>0.00   </td><td>0      </td><td>   1.02</td><td>2.18   </td><td>  3.85 </td><td>0.00   </td><td>0.00   </td><td> 6.15  </td></tr>\n",
       "\t<tr><td>ZYG11B </td><td>7.86   </td><td>  2.14 </td><td>4.43   </td><td>1.77   </td><td>  2.43 </td><td>   0.00</td><td> 7.56  </td><td>2.24   </td><td> 6.63  </td><td>...    </td><td>3.35   </td><td>0      </td><td>1.91   </td><td>0      </td><td>   4.12</td><td>1.74   </td><td>  1.02 </td><td>1.12   </td><td>3.72   </td><td>23.32  </td></tr>\n",
       "\t<tr><td>ZYX    </td><td>0.00   </td><td>  0.00 </td><td>1.00   </td><td>0.00   </td><td>937.00 </td><td>   0.00</td><td> 0.00  </td><td>0.00   </td><td> 0.00  </td><td>...    </td><td>0.00   </td><td>0      </td><td>0.00   </td><td>0      </td><td>   0.00</td><td>3.00   </td><td>143.00 </td><td>0.00   </td><td>0.00   </td><td>85.00  </td></tr>\n",
       "\t<tr><td>ZZEF1  </td><td>0.00   </td><td>  0.00 </td><td>0.00   </td><td>0.00   </td><td>  0.00 </td><td>   0.00</td><td> 0.00  </td><td>7.00   </td><td> 0.00  </td><td>...    </td><td>0.00   </td><td>0      </td><td>0.00   </td><td>0      </td><td>   0.00</td><td>0.00   </td><td>  6.00 </td><td>0.00   </td><td>0.00   </td><td>27.00  </td></tr>\n",
       "\t<tr><td>ZZZ3   </td><td>0.00   </td><td>  0.00 </td><td>0.00   </td><td>2.00   </td><td>  0.00 </td><td>2006.00</td><td> 0.00  </td><td>0.00   </td><td> 0.00  </td><td>...    </td><td>0.00   </td><td>0      </td><td>0.00   </td><td>0      </td><td>   0.00</td><td>0.00   </td><td>  0.00 </td><td>0.00   </td><td>0.00   </td><td>23.00  </td></tr>\n",
       "</tbody>\n",
       "</table>\n"
      ],
      "text/latex": [
       "\\begin{tabular}{r|lllllllllllllllllllllllllllllllllllllllllllllllllllllllllllllllllllllllllllllllllllllllllllllllllllllllllllllllllllllllllllllllllllllllllllllllllllllllllllllllllllllllllllllllllllllllllllllllllllllllllllllllllllllllllllllllllllllllllllllllllllllllllllllllllllllllllllllllllllllllllllllllllllllllllllllllllllllllllllllllllllllllllllllllllllllllllllllllllllllllllllllllllllllllllllllllllllllllllllllllllllllllllllllllllllllllllllllllllllllllllllllllllllllllllllllllllllllllllllllllllllllllllllllllllllllllllllllllllllllllllllllllllllllllllllllllllllllllllllllllllllllllllllllllllllllllllllllllllllllllllllllllllllllllllllllllllllllllllllllllllllllllllllllllllllllllllllllllllllllllllllllllllllllllllllllllllllllllllllllllllllllllllllllllllllllllllllllllllllllllllllllllllllllllllllllllllllllllllllllllllllllllllllllllllllllllllllllllllllllllllllllllllllllllllllllllllllllllllllllllllllllllllllllllllllllllllllllllllllllllllllllllllllllllllllllllllllllllllllllllllllllllllllllllllllllllllllllllllllllllllllllllllllllllllllllllllllllllllllllllllllllllllllllllllllllllllllllllllllllllllllllllllllllllllllllllllllllllllllllllllllllllllllllllllllllllllllllllllllllllllllllllllllllllllllllllllllllllllllllllllllllllllllllllllllllllllllllllllllllllllllllllllllllllllllllllllllllllllllllllllllllllllllllllllllllllllllllllllllllllllllllllllllllllllllllllllllllllllllllllllllllllllllllllllllllllllllllllllllllllllllllllllllllllllllllllllllllllllllllllllllllllllllllllllllllllllllllllllllllllllllllllllllllllllllllllllllllllllllllllllllllllllllllll}\n",
       " V1 & PT089\\_P1\\_A01 & PT089\\_P1\\_A02 & PT089\\_P1\\_A03 & PT089\\_P1\\_A04 & PT089\\_P1\\_A05 & PT089\\_P1\\_A06 & PT089\\_P1\\_A07 & PT089\\_P1\\_A08 & PT089\\_P1\\_A09 & ... & PT039\\_P10\\_H03\\_S279 & PT039\\_P10\\_H04\\_S280 & PT039\\_P10\\_H05\\_S281 & PT039\\_P10\\_H06\\_S282 & PT039\\_P10\\_H07\\_S283 & PT039\\_P10\\_H08\\_S284 & PT039\\_P10\\_H09\\_S285 & PT039\\_P10\\_H10\\_S286 & PT039\\_P10\\_H11\\_S287 & PT039\\_P10\\_H12\\_S288\\\\\n",
       "\\hline\n",
       "\t ZXDC    & 1.76    &   5.06  & 4.86    & 2.57    &   7.48  &    7.26 & 12.10   & 2.61    &  7.59   & ...     & 0.00    & 0       & 0.00    & 0       & 1275.78 & 2.03    &   0.00  & 0.00    & 0.00    & 85.87  \\\\\n",
       "\t ZYG11A  & 4.73    & 111.84  & 1.26    & 0.00    &   1.42  &    7.26 & 12.36   & 4.72    & 13.45   & ...     & 0.00    & 0       & 0.00    & 0       &    1.02 & 2.18    &   3.85  & 0.00    & 0.00    &  6.15  \\\\\n",
       "\t ZYG11B  & 7.86    &   2.14  & 4.43    & 1.77    &   2.43  &    0.00 &  7.56   & 2.24    &  6.63   & ...     & 3.35    & 0       & 1.91    & 0       &    4.12 & 1.74    &   1.02  & 1.12    & 3.72    & 23.32  \\\\\n",
       "\t ZYX     & 0.00    &   0.00  & 1.00    & 0.00    & 937.00  &    0.00 &  0.00   & 0.00    &  0.00   & ...     & 0.00    & 0       & 0.00    & 0       &    0.00 & 3.00    & 143.00  & 0.00    & 0.00    & 85.00  \\\\\n",
       "\t ZZEF1   & 0.00    &   0.00  & 0.00    & 0.00    &   0.00  &    0.00 &  0.00   & 7.00    &  0.00   & ...     & 0.00    & 0       & 0.00    & 0       &    0.00 & 0.00    &   6.00  & 0.00    & 0.00    & 27.00  \\\\\n",
       "\t ZZZ3    & 0.00    &   0.00  & 0.00    & 2.00    &   0.00  & 2006.00 &  0.00   & 0.00    &  0.00   & ...     & 0.00    & 0       & 0.00    & 0       &    0.00 & 0.00    &   0.00  & 0.00    & 0.00    & 23.00  \\\\\n",
       "\\end{tabular}\n"
      ],
      "text/markdown": [
       "\n",
       "| V1 | PT089_P1_A01 | PT089_P1_A02 | PT089_P1_A03 | PT089_P1_A04 | PT089_P1_A05 | PT089_P1_A06 | PT089_P1_A07 | PT089_P1_A08 | PT089_P1_A09 | ... | PT039_P10_H03_S279 | PT039_P10_H04_S280 | PT039_P10_H05_S281 | PT039_P10_H06_S282 | PT039_P10_H07_S283 | PT039_P10_H08_S284 | PT039_P10_H09_S285 | PT039_P10_H10_S286 | PT039_P10_H11_S287 | PT039_P10_H12_S288 |\n",
       "|---|---|---|---|---|---|---|---|---|---|---|---|---|---|---|---|---|---|---|---|---|\n",
       "| ZXDC    | 1.76    |   5.06  | 4.86    | 2.57    |   7.48  |    7.26 | 12.10   | 2.61    |  7.59   | ...     | 0.00    | 0       | 0.00    | 0       | 1275.78 | 2.03    |   0.00  | 0.00    | 0.00    | 85.87   |\n",
       "| ZYG11A  | 4.73    | 111.84  | 1.26    | 0.00    |   1.42  |    7.26 | 12.36   | 4.72    | 13.45   | ...     | 0.00    | 0       | 0.00    | 0       |    1.02 | 2.18    |   3.85  | 0.00    | 0.00    |  6.15   |\n",
       "| ZYG11B  | 7.86    |   2.14  | 4.43    | 1.77    |   2.43  |    0.00 |  7.56   | 2.24    |  6.63   | ...     | 3.35    | 0       | 1.91    | 0       |    4.12 | 1.74    |   1.02  | 1.12    | 3.72    | 23.32   |\n",
       "| ZYX     | 0.00    |   0.00  | 1.00    | 0.00    | 937.00  |    0.00 |  0.00   | 0.00    |  0.00   | ...     | 0.00    | 0       | 0.00    | 0       |    0.00 | 3.00    | 143.00  | 0.00    | 0.00    | 85.00   |\n",
       "| ZZEF1   | 0.00    |   0.00  | 0.00    | 0.00    |   0.00  |    0.00 |  0.00   | 7.00    |  0.00   | ...     | 0.00    | 0       | 0.00    | 0       |    0.00 | 0.00    |   6.00  | 0.00    | 0.00    | 27.00   |\n",
       "| ZZZ3    | 0.00    |   0.00  | 0.00    | 2.00    |   0.00  | 2006.00 |  0.00   | 0.00    |  0.00   | ...     | 0.00    | 0       | 0.00    | 0       |    0.00 | 0.00    |   0.00  | 0.00    | 0.00    | 23.00   |\n",
       "\n"
      ],
      "text/plain": [
       "  V1     PT089_P1_A01 PT089_P1_A02 PT089_P1_A03 PT089_P1_A04 PT089_P1_A05\n",
       "1 ZXDC   1.76           5.06       4.86         2.57           7.48      \n",
       "2 ZYG11A 4.73         111.84       1.26         0.00           1.42      \n",
       "3 ZYG11B 7.86           2.14       4.43         1.77           2.43      \n",
       "4 ZYX    0.00           0.00       1.00         0.00         937.00      \n",
       "5 ZZEF1  0.00           0.00       0.00         0.00           0.00      \n",
       "6 ZZZ3   0.00           0.00       0.00         2.00           0.00      \n",
       "  PT089_P1_A06 PT089_P1_A07 PT089_P1_A08 PT089_P1_A09 ... PT039_P10_H03_S279\n",
       "1    7.26      12.10        2.61          7.59        ... 0.00              \n",
       "2    7.26      12.36        4.72         13.45        ... 0.00              \n",
       "3    0.00       7.56        2.24          6.63        ... 3.35              \n",
       "4    0.00       0.00        0.00          0.00        ... 0.00              \n",
       "5    0.00       0.00        7.00          0.00        ... 0.00              \n",
       "6 2006.00       0.00        0.00          0.00        ... 0.00              \n",
       "  PT039_P10_H04_S280 PT039_P10_H05_S281 PT039_P10_H06_S282 PT039_P10_H07_S283\n",
       "1 0                  0.00               0                  1275.78           \n",
       "2 0                  0.00               0                     1.02           \n",
       "3 0                  1.91               0                     4.12           \n",
       "4 0                  0.00               0                     0.00           \n",
       "5 0                  0.00               0                     0.00           \n",
       "6 0                  0.00               0                     0.00           \n",
       "  PT039_P10_H08_S284 PT039_P10_H09_S285 PT039_P10_H10_S286 PT039_P10_H11_S287\n",
       "1 2.03                 0.00             0.00               0.00              \n",
       "2 2.18                 3.85             0.00               0.00              \n",
       "3 1.74                 1.02             1.12               3.72              \n",
       "4 3.00               143.00             0.00               0.00              \n",
       "5 0.00                 6.00             0.00               0.00              \n",
       "6 0.00                 0.00             0.00               0.00              \n",
       "  PT039_P10_H12_S288\n",
       "1 85.87             \n",
       "2  6.15             \n",
       "3 23.32             \n",
       "4 85.00             \n",
       "5 27.00             \n",
       "6 23.00             "
      ]
     },
     "metadata": {},
     "output_type": "display_data"
    },
    {
     "data": {
      "text/html": [
       "<ol class=list-inline>\n",
       "\t<li>21785</li>\n",
       "\t<li>1535</li>\n",
       "</ol>\n"
      ],
      "text/latex": [
       "\\begin{enumerate*}\n",
       "\\item 21785\n",
       "\\item 1535\n",
       "\\end{enumerate*}\n"
      ],
      "text/markdown": [
       "1. 21785\n",
       "2. 1535\n",
       "\n",
       "\n"
      ],
      "text/plain": [
       "[1] 21785  1535"
      ]
     },
     "metadata": {},
     "output_type": "display_data"
    },
    {
     "data": {
      "text/html": [
       "0"
      ],
      "text/latex": [
       "0"
      ],
      "text/markdown": [
       "0"
      ],
      "text/plain": [
       "[1] 0"
      ]
     },
     "metadata": {},
     "output_type": "display_data"
    }
   ],
   "source": [
    "#data\n",
    "TNBC_data=fread(file.path(\"ext_data/GSE118389_tnbc/GSE118389_counts_rsem.txt\"))\n",
    "tail(TNBC_data)\n",
    "dim(TNBC_data)\n",
    "sum(duplicated(TNBC_data$V1)) #check for duplicated gene names - here are none"
   ]
  },
  {
   "cell_type": "code",
   "execution_count": 4,
   "metadata": {},
   "outputs": [
    {
     "data": {
      "text/html": [
       "<table>\n",
       "<thead><tr><th scope=col>V1</th><th scope=col>V2</th></tr></thead>\n",
       "<tbody>\n",
       "\t<tr><td>PT089_P1_A01</td><td>epithelial  </td></tr>\n",
       "\t<tr><td>PT089_P1_A02</td><td>epithelial  </td></tr>\n",
       "\t<tr><td>PT089_P1_A03</td><td>epithelial  </td></tr>\n",
       "\t<tr><td>PT089_P1_A04</td><td>macrophage  </td></tr>\n",
       "\t<tr><td>PT089_P1_A05</td><td>macrophage  </td></tr>\n",
       "\t<tr><td>PT089_P1_A06</td><td>epithelial  </td></tr>\n",
       "</tbody>\n",
       "</table>\n"
      ],
      "text/latex": [
       "\\begin{tabular}{r|ll}\n",
       " V1 & V2\\\\\n",
       "\\hline\n",
       "\t PT089\\_P1\\_A01 & epithelial      \\\\\n",
       "\t PT089\\_P1\\_A02 & epithelial      \\\\\n",
       "\t PT089\\_P1\\_A03 & epithelial      \\\\\n",
       "\t PT089\\_P1\\_A04 & macrophage      \\\\\n",
       "\t PT089\\_P1\\_A05 & macrophage      \\\\\n",
       "\t PT089\\_P1\\_A06 & epithelial      \\\\\n",
       "\\end{tabular}\n"
      ],
      "text/markdown": [
       "\n",
       "| V1 | V2 |\n",
       "|---|---|\n",
       "| PT089_P1_A01 | epithelial   |\n",
       "| PT089_P1_A02 | epithelial   |\n",
       "| PT089_P1_A03 | epithelial   |\n",
       "| PT089_P1_A04 | macrophage   |\n",
       "| PT089_P1_A05 | macrophage   |\n",
       "| PT089_P1_A06 | epithelial   |\n",
       "\n"
      ],
      "text/plain": [
       "  V1           V2        \n",
       "1 PT089_P1_A01 epithelial\n",
       "2 PT089_P1_A02 epithelial\n",
       "3 PT089_P1_A03 epithelial\n",
       "4 PT089_P1_A04 macrophage\n",
       "5 PT089_P1_A05 macrophage\n",
       "6 PT089_P1_A06 epithelial"
      ]
     },
     "metadata": {},
     "output_type": "display_data"
    },
    {
     "data": {
      "text/html": [
       "<ol class=list-inline>\n",
       "\t<li>1112</li>\n",
       "\t<li>2</li>\n",
       "</ol>\n"
      ],
      "text/latex": [
       "\\begin{enumerate*}\n",
       "\\item 1112\n",
       "\\item 2\n",
       "\\end{enumerate*}\n"
      ],
      "text/markdown": [
       "1. 1112\n",
       "2. 2\n",
       "\n",
       "\n"
      ],
      "text/plain": [
       "[1] 1112    2"
      ]
     },
     "metadata": {},
     "output_type": "display_data"
    }
   ],
   "source": [
    "#annotation\n",
    "TNBC_annot=fread(file.path(\"ext_data/GSE118389_tnbc/GSE118389_cell_annot.tsv\"))\n",
    "TNBC_annot[,V1:=as.character(V1),]\n",
    "TNBC_annot[,V2:=as.character(V2),]\n",
    "head(TNBC_annot)\n",
    "dim(TNBC_annot)"
   ]
  },
  {
   "cell_type": "code",
   "execution_count": 5,
   "metadata": {},
   "outputs": [
    {
     "name": "stderr",
     "output_type": "stream",
     "text": [
      "Warning message in melt.data.table(TNBC_data, id.vars = \"V1\"):\n",
      "\"'measure.vars' [PT089_P1_A01, PT089_P1_A02, PT089_P1_A03, PT089_P1_A04, ...] are not all of the same type. By order of hierarchy, the molten data value column will be of type 'double'. All measure variables not of type 'double' will be coerced too. Check DETAILS in ?melt.data.table for more on coercion.\""
     ]
    },
    {
     "data": {
      "text/html": [
       "<table>\n",
       "<thead><tr><th scope=col>V1</th><th scope=col>variable</th><th scope=col>value</th></tr></thead>\n",
       "<tbody>\n",
       "\t<tr><td>A1BG        </td><td>PT089_P1_A01</td><td>0.00        </td></tr>\n",
       "\t<tr><td>A1BG-AS1    </td><td>PT089_P1_A01</td><td>0.00        </td></tr>\n",
       "\t<tr><td>A1CF        </td><td>PT089_P1_A01</td><td>0.00        </td></tr>\n",
       "\t<tr><td>A2M         </td><td>PT089_P1_A01</td><td>0.00        </td></tr>\n",
       "\t<tr><td>A2M-AS1     </td><td>PT089_P1_A01</td><td>0.00        </td></tr>\n",
       "\t<tr><td>A2ML1       </td><td>PT089_P1_A01</td><td>1.08        </td></tr>\n",
       "</tbody>\n",
       "</table>\n"
      ],
      "text/latex": [
       "\\begin{tabular}{r|lll}\n",
       " V1 & variable & value\\\\\n",
       "\\hline\n",
       "\t A1BG             & PT089\\_P1\\_A01 & 0.00            \\\\\n",
       "\t A1BG-AS1         & PT089\\_P1\\_A01 & 0.00            \\\\\n",
       "\t A1CF             & PT089\\_P1\\_A01 & 0.00            \\\\\n",
       "\t A2M              & PT089\\_P1\\_A01 & 0.00            \\\\\n",
       "\t A2M-AS1          & PT089\\_P1\\_A01 & 0.00            \\\\\n",
       "\t A2ML1            & PT089\\_P1\\_A01 & 1.08            \\\\\n",
       "\\end{tabular}\n"
      ],
      "text/markdown": [
       "\n",
       "| V1 | variable | value |\n",
       "|---|---|---|\n",
       "| A1BG         | PT089_P1_A01 | 0.00         |\n",
       "| A1BG-AS1     | PT089_P1_A01 | 0.00         |\n",
       "| A1CF         | PT089_P1_A01 | 0.00         |\n",
       "| A2M          | PT089_P1_A01 | 0.00         |\n",
       "| A2M-AS1      | PT089_P1_A01 | 0.00         |\n",
       "| A2ML1        | PT089_P1_A01 | 1.08         |\n",
       "\n"
      ],
      "text/plain": [
       "  V1       variable     value\n",
       "1 A1BG     PT089_P1_A01 0.00 \n",
       "2 A1BG-AS1 PT089_P1_A01 0.00 \n",
       "3 A1CF     PT089_P1_A01 0.00 \n",
       "4 A2M      PT089_P1_A01 0.00 \n",
       "5 A2M-AS1  PT089_P1_A01 0.00 \n",
       "6 A2ML1    PT089_P1_A01 1.08 "
      ]
     },
     "metadata": {},
     "output_type": "display_data"
    }
   ],
   "source": [
    "TNBC_data_long=melt(TNBC_data,id.vars = \"V1\")\n",
    "head(TNBC_data_long)"
   ]
  },
  {
   "cell_type": "code",
   "execution_count": 6,
   "metadata": {},
   "outputs": [],
   "source": [
    "TNBC_data_long=merge(TNBC_data_long,TNBC_annot,by.x = \"variable\",by.y=\"V1\")"
   ]
  },
  {
   "cell_type": "code",
   "execution_count": 7,
   "metadata": {},
   "outputs": [],
   "source": [
    "setnames(TNBC_data_long,\"V2\",\"ClusterName\")"
   ]
  },
  {
   "cell_type": "code",
   "execution_count": 8,
   "metadata": {},
   "outputs": [
    {
     "data": {
      "text/html": [
       "<table>\n",
       "<thead><tr><th scope=col>V1</th><th scope=col>ClusterName</th><th scope=col>value</th><th scope=col>N</th></tr></thead>\n",
       "<tbody>\n",
       "\t<tr><td>A1BG        </td><td>epithelial  </td><td>  3.25911290</td><td>868         </td></tr>\n",
       "\t<tr><td>A1BG-AS1    </td><td>epithelial  </td><td>  4.61316820</td><td>868         </td></tr>\n",
       "\t<tr><td>A1CF        </td><td>epithelial  </td><td>  0.06591014</td><td>868         </td></tr>\n",
       "\t<tr><td>A2M         </td><td>epithelial  </td><td>633.41102535</td><td>868         </td></tr>\n",
       "\t<tr><td>A2M-AS1     </td><td>epithelial  </td><td>  1.97836406</td><td>868         </td></tr>\n",
       "\t<tr><td>A2ML1       </td><td>epithelial  </td><td> 20.12418203</td><td>868         </td></tr>\n",
       "</tbody>\n",
       "</table>\n"
      ],
      "text/latex": [
       "\\begin{tabular}{r|llll}\n",
       " V1 & ClusterName & value & N\\\\\n",
       "\\hline\n",
       "\t A1BG         & epithelial   &   3.25911290 & 868         \\\\\n",
       "\t A1BG-AS1     & epithelial   &   4.61316820 & 868         \\\\\n",
       "\t A1CF         & epithelial   &   0.06591014 & 868         \\\\\n",
       "\t A2M          & epithelial   & 633.41102535 & 868         \\\\\n",
       "\t A2M-AS1      & epithelial   &   1.97836406 & 868         \\\\\n",
       "\t A2ML1        & epithelial   &  20.12418203 & 868         \\\\\n",
       "\\end{tabular}\n"
      ],
      "text/markdown": [
       "\n",
       "| V1 | ClusterName | value | N |\n",
       "|---|---|---|---|\n",
       "| A1BG         | epithelial   |   3.25911290 | 868          |\n",
       "| A1BG-AS1     | epithelial   |   4.61316820 | 868          |\n",
       "| A1CF         | epithelial   |   0.06591014 | 868          |\n",
       "| A2M          | epithelial   | 633.41102535 | 868          |\n",
       "| A2M-AS1      | epithelial   |   1.97836406 | 868          |\n",
       "| A2ML1        | epithelial   |  20.12418203 | 868          |\n",
       "\n"
      ],
      "text/plain": [
       "  V1       ClusterName value        N  \n",
       "1 A1BG     epithelial    3.25911290 868\n",
       "2 A1BG-AS1 epithelial    4.61316820 868\n",
       "3 A1CF     epithelial    0.06591014 868\n",
       "4 A2M      epithelial  633.41102535 868\n",
       "5 A2M-AS1  epithelial    1.97836406 868\n",
       "6 A2ML1    epithelial   20.12418203 868"
      ]
     },
     "metadata": {},
     "output_type": "display_data"
    }
   ],
   "source": [
    "tnbc_norm=TNBC_data_long[,.(value=mean(value),N=.N),by=c(\"V1\",\"ClusterName\")]\n",
    "head(tnbc_norm)"
   ]
  },
  {
   "cell_type": "code",
   "execution_count": 11,
   "metadata": {},
   "outputs": [
    {
     "data": {
      "text/html": [
       "<table>\n",
       "<thead><tr><th scope=col>gene</th><th scope=col>ClusterName</th><th scope=col>value</th><th scope=col>N</th><th scope=col>norm</th><th scope=col>log_norm</th></tr></thead>\n",
       "<tbody>\n",
       "\t<tr><td>ZXDC        </td><td>Tcell       </td><td> 20.228302  </td><td>53          </td><td>3.017484e-05</td><td>-10.408502  </td></tr>\n",
       "\t<tr><td>ZYG11A      </td><td>Tcell       </td><td>  3.791887  </td><td>53          </td><td>5.656409e-06</td><td>-12.082721  </td></tr>\n",
       "\t<tr><td>ZYG11B      </td><td>Tcell       </td><td> 20.612264  </td><td>53          </td><td>3.074760e-05</td><td>-10.389699  </td></tr>\n",
       "\t<tr><td>ZYX         </td><td>Tcell       </td><td>124.452830  </td><td>53          </td><td>1.856480e-04</td><td> -8.591658  </td></tr>\n",
       "\t<tr><td>ZZEF1       </td><td>Tcell       </td><td> 91.452830  </td><td>53          </td><td>1.364214e-04</td><td> -8.899762  </td></tr>\n",
       "\t<tr><td>ZZZ3        </td><td>Tcell       </td><td> 55.037736  </td><td>53          </td><td>8.210054e-05</td><td> -9.407566  </td></tr>\n",
       "</tbody>\n",
       "</table>\n"
      ],
      "text/latex": [
       "\\begin{tabular}{r|llllll}\n",
       " gene & ClusterName & value & N & norm & log\\_norm\\\\\n",
       "\\hline\n",
       "\t ZXDC         & Tcell        &  20.228302   & 53           & 3.017484e-05 & -10.408502  \\\\\n",
       "\t ZYG11A       & Tcell        &   3.791887   & 53           & 5.656409e-06 & -12.082721  \\\\\n",
       "\t ZYG11B       & Tcell        &  20.612264   & 53           & 3.074760e-05 & -10.389699  \\\\\n",
       "\t ZYX          & Tcell        & 124.452830   & 53           & 1.856480e-04 &  -8.591658  \\\\\n",
       "\t ZZEF1        & Tcell        &  91.452830   & 53           & 1.364214e-04 &  -8.899762  \\\\\n",
       "\t ZZZ3         & Tcell        &  55.037736   & 53           & 8.210054e-05 &  -9.407566  \\\\\n",
       "\\end{tabular}\n"
      ],
      "text/markdown": [
       "\n",
       "| gene | ClusterName | value | N | norm | log_norm |\n",
       "|---|---|---|---|---|---|\n",
       "| ZXDC         | Tcell        |  20.228302   | 53           | 3.017484e-05 | -10.408502   |\n",
       "| ZYG11A       | Tcell        |   3.791887   | 53           | 5.656409e-06 | -12.082721   |\n",
       "| ZYG11B       | Tcell        |  20.612264   | 53           | 3.074760e-05 | -10.389699   |\n",
       "| ZYX          | Tcell        | 124.452830   | 53           | 1.856480e-04 |  -8.591658   |\n",
       "| ZZEF1        | Tcell        |  91.452830   | 53           | 1.364214e-04 |  -8.899762   |\n",
       "| ZZZ3         | Tcell        |  55.037736   | 53           | 8.210054e-05 |  -9.407566   |\n",
       "\n"
      ],
      "text/plain": [
       "  gene   ClusterName value      N  norm         log_norm  \n",
       "1 ZXDC   Tcell        20.228302 53 3.017484e-05 -10.408502\n",
       "2 ZYG11A Tcell         3.791887 53 5.656409e-06 -12.082721\n",
       "3 ZYG11B Tcell        20.612264 53 3.074760e-05 -10.389699\n",
       "4 ZYX    Tcell       124.452830 53 1.856480e-04  -8.591658\n",
       "5 ZZEF1  Tcell        91.452830 53 1.364214e-04  -8.899762\n",
       "6 ZZZ3   Tcell        55.037736 53 8.210054e-05  -9.407566"
      ]
     },
     "metadata": {},
     "output_type": "display_data"
    }
   ],
   "source": [
    "tnbc_norm[,norm:=value/sum(value),by=\"ClusterName\"]\n",
    "tnbc_norm[,log_norm:=log(norm),]\n",
    "setnames(tnbc_norm,\"V1\",\"gene\")\n",
    "tail(tnbc_norm)"
   ]
  },
  {
   "cell_type": "code",
   "execution_count": 12,
   "metadata": {},
   "outputs": [
    {
     "data": {
      "text/html": [
       "6"
      ],
      "text/latex": [
       "6"
      ],
      "text/markdown": [
       "6"
      ],
      "text/plain": [
       "[1] 6"
      ]
     },
     "metadata": {},
     "output_type": "display_data"
    }
   ],
   "source": [
    "N_ct=length(unique(tnbc_norm$ClusterName))\n",
    "N_ct"
   ]
  },
  {
   "cell_type": "code",
   "execution_count": 13,
   "metadata": {},
   "outputs": [],
   "source": [
    "tnbc_norm[,N_zero_ct:=length(unique(ClusterName[norm==0])),by=gene]"
   ]
  },
  {
   "cell_type": "code",
   "execution_count": 14,
   "metadata": {},
   "outputs": [
    {
     "data": {
      "text/html": [
       "19595"
      ],
      "text/latex": [
       "19595"
      ],
      "text/markdown": [
       "19595"
      ],
      "text/plain": [
       "[1] 19595"
      ]
     },
     "metadata": {},
     "output_type": "display_data"
    }
   ],
   "source": [
    "Ngenes=length(unique(tnbc_norm[N_zero_ct<N_ct]$gene))\n",
    "Ngenes"
   ]
  },
  {
   "cell_type": "code",
   "execution_count": 15,
   "metadata": {},
   "outputs": [],
   "source": [
    "write.table(tnbc_norm,\"results/tnbc_norm.tsv\",sep=\"\\t\",quote=FALSE,row.names=FALSE)"
   ]
  }
 ],
 "metadata": {
  "kernelspec": {
   "display_name": "R",
   "language": "R",
   "name": "ir"
  },
  "language_info": {
   "codemirror_mode": "r",
   "file_extension": ".r",
   "mimetype": "text/x-r-source",
   "name": "R",
   "pygments_lexer": "r",
   "version": "3.5.0"
  }
 },
 "nbformat": 4,
 "nbformat_minor": 2
}
